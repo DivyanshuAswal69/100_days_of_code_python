{
 "cells": [
  {
   "cell_type": "code",
   "execution_count": 1,
   "id": "e04073f6",
   "metadata": {},
   "outputs": [
    {
     "name": "stdout",
     "output_type": "stream",
     "text": [
      "Bug\n",
      "An error in a program that prevents the program from running as expected.\n",
      "Function\n",
      "A piece of code that you can easily call over and over again.\n"
     ]
    }
   ],
   "source": [
    "programming_dictionary = {\"Bug\": \"An error in a program that prevents the program from running as expected.\",\n",
    "                          \"Function\": \"A piece of code that you can easily call over and over again.\"}\n",
    "for keys in programming_dictionary:\n",
    "    print(keys)\n",
    "    print(programming_dictionary[keys])"
   ]
  },
  {
   "cell_type": "markdown",
   "id": "2f1b02bc",
   "metadata": {},
   "source": [
    "<h3>Grading Program</h3>"
   ]
  },
  {
   "cell_type": "code",
   "execution_count": 2,
   "id": "fa96f3ec",
   "metadata": {},
   "outputs": [
    {
     "name": "stdout",
     "output_type": "stream",
     "text": [
      "{'Harry': 'Exceeds Expectations', 'Ron': 'Acceptable', 'Hermione': 'Outstanding', 'Draco': 'Acceptable', 'Neville': 'Fail'}\n"
     ]
    }
   ],
   "source": [
    "student_scores = {\n",
    "  \"Harry\": 81,\n",
    "  \"Ron\": 78,\n",
    "  \"Hermione\": 99, \n",
    "  \"Draco\": 74,\n",
    "  \"Neville\": 62,\n",
    "}\n",
    "student_grades = {}\n",
    "for student in student_scores:\n",
    "    score = student_scores[student]\n",
    "    if score > 90:\n",
    "        student_grades[student] = \"Outstanding\"\n",
    "    elif score > 80:\n",
    "        student_grades[student] = \"Exceeds Expectations\"\n",
    "    elif score > 70:\n",
    "        student_grades[student] = \"Acceptable\"\n",
    "    else:\n",
    "        student_grades[student] = \"Fail\"\n",
    "        \n",
    "print(student_grades)"
   ]
  },
  {
   "cell_type": "code",
   "execution_count": 3,
   "id": "d1220ffb",
   "metadata": {},
   "outputs": [
    {
     "name": "stdout",
     "output_type": "stream",
     "text": [
      "[{'Country': 'France', 'Cities_visited': ['Paris', 'Lille', 'Dijon'], 'total_visits': 12}, {'Country': 'Germany', 'cities_visited': ['Berlin', 'Hamburg', 'Stuttgart'], 'total_visites': 5}]\n"
     ]
    }
   ],
   "source": [
    "travel_log = [\n",
    "    {\n",
    "        \"Country\": \"France\",\n",
    "        \"Cities_visited\": ['Paris', \"Lille\", \"Dijon\"],\n",
    "        \"total_visits\" : 12\n",
    "    },\n",
    "    {\n",
    "        \"Country\": 'Germany',\n",
    "        \"cities_visited\": ['Berlin', 'Hamburg', 'Stuttgart'],\n",
    "        \"total_visites\": 5\n",
    "    }\n",
    "]\n",
    "print(travel_log)"
   ]
  },
  {
   "cell_type": "code",
   "execution_count": 4,
   "id": "74382490",
   "metadata": {},
   "outputs": [
    {
     "name": "stdout",
     "output_type": "stream",
     "text": [
      "enter the name of the countryJapan\n",
      "list of cities you visited there'tokyo'\n",
      "enter the number of visits there5\n",
      "I've been to Japan 5 times.\n",
      "my favourite city was tokyo.\n"
     ]
    }
   ],
   "source": [
    "country = input('enter the name of the country') #add country name\n",
    "cities_visits = eval(input('list of cities you visited there')) #insert the text in quotes ('' or \"\")\n",
    "total_visits = int(input('enter the number of visits there')) #number of visits\n",
    "\n",
    "travel_log = [\n",
    "    {\n",
    "        \"country\": \"France\",\n",
    "        \"cities_visits\": ['Paris', \"Lille\", \"Dijon\"],\n",
    "        \"total_visits\" : 12\n",
    "    },\n",
    "    {\n",
    "        \"country\": 'Germany',\n",
    "        \"cities_visited\": ['Berlin', 'Hamburg', 'Stuttgart'],\n",
    "        \"total_visits\": 5\n",
    "    }\n",
    "]\n",
    "def add_new_country(country, cities_visits, total_visits):\n",
    "    new_country = {}\n",
    "    new_country['country'] = country\n",
    "    new_country['cities_visits'] = cities_visits\n",
    "    new_country['total_visits'] = total_visits\n",
    "    travel_log.append(new_country)\n",
    "add_new_country(country, cities_visits, total_visits)\n",
    "print(f'I\\'ve been to {travel_log[2][\"country\"]} {travel_log[2][\"total_visits\"]} times.')\n",
    "print(f'my favourite city was {travel_log[2][\"cities_visits\"]}.')"
   ]
  },
  {
   "cell_type": "markdown",
   "id": "1dd14bfe",
   "metadata": {},
   "source": [
    "<h3>Project: - The Secret Auction Program</h3>"
   ]
  },
  {
   "cell_type": "code",
   "execution_count": 15,
   "id": "91f74d38",
   "metadata": {},
   "outputs": [
    {
     "name": "stdout",
     "output_type": "stream",
     "text": [
      "\n",
      "                         ___________\n",
      "                         \\         /\n",
      "                          )_______(\n",
      "                          |\"\"\"\"\"\"\"|_.-._,.---------.,_.-._\n",
      "                          |       | | |               | | ''-.\n",
      "                          |       |_| |_             _| |_..-'\n",
      "                          |_______| '-' `'---------'` '-'\n",
      "                          )\"\"\"\"\"\"\"(\n",
      "                         /_________\\\n",
      "                       .-------------.\n",
      "                      /_______________\\\n",
      "\n",
      "What is your name\n",
      "divya\n",
      "What is your bid?\n",
      "$5\n",
      "Are there more person? type ('yes or no')yes\n",
      "What is your name\n",
      "mohan\n",
      "What is your bid?\n",
      "$1\n",
      "Are there more person? type ('yes or no')no\n",
      "The highest bid is 5 by divya\n",
      "The highest bid is 5 by divya\n"
     ]
    }
   ],
   "source": [
    "import art\n",
    "print(art.logo)\n",
    "bids = {}\n",
    "bid_end = False\n",
    "def highest_bid(bids):\n",
    "    highest = 0\n",
    "    winner = \"\"\n",
    "    for i in bids:\n",
    "        bid_amount = bids[i]\n",
    "        if bid_amount > highest:\n",
    "            highest = bid_amount\n",
    "            winner = i\n",
    "    print(f'The highest bid is {highest} by {winner}')    \n",
    "while bid_end is False:\n",
    "    name = input('What is your name\\n')\n",
    "    price = int(input('What is your bid?\\n$'))\n",
    "    bids[name] = price\n",
    "    question = input(\"Are there more person? type ('yes or no')\").lower()\n",
    "    if question == 'no':\n",
    "        bid_end = True\n",
    "        highest_bid(bids)\n",
    "    elif question == 'yes':\n",
    "        bid_end = False\n",
    "    else:\n",
    "        bid_end = True\n",
    "        print('Something went wrong. Try again!')"
   ]
  }
 ],
 "metadata": {
  "kernelspec": {
   "display_name": "Python 3 (ipykernel)",
   "language": "python",
   "name": "python3"
  },
  "language_info": {
   "codemirror_mode": {
    "name": "ipython",
    "version": 3
   },
   "file_extension": ".py",
   "mimetype": "text/x-python",
   "name": "python",
   "nbconvert_exporter": "python",
   "pygments_lexer": "ipython3",
   "version": "3.9.13"
  }
 },
 "nbformat": 4,
 "nbformat_minor": 5
}
