{
 "cells": [
  {
   "cell_type": "markdown",
   "id": "284b3ec2",
   "metadata": {},
   "source": [
    "<h3>Debugging Excercise</h3>"
   ]
  },
  {
   "cell_type": "markdown",
   "id": "57e792a9",
   "metadata": {},
   "source": [
    "<h3>1.</h3>"
   ]
  },
  {
   "cell_type": "code",
   "execution_count": 3,
   "id": "ff81fbfa",
   "metadata": {},
   "outputs": [
    {
     "name": "stdout",
     "output_type": "stream",
     "text": [
      "You got it\n"
     ]
    }
   ],
   "source": [
    "# # Describe Problem\n",
    "# def my_function():\n",
    "#   for i in range(1, 20):\n",
    "#     if i == 20:\n",
    "#       print(\"You got it\")\n",
    "# my_function()\n",
    "\n",
    "def my_function():\n",
    "    for i in range(1,21):\n",
    "        if i == 20:\n",
    "            print(\"You got it\")\n",
    "my_function()"
   ]
  },
  {
   "cell_type": "markdown",
   "id": "cab9cb5c",
   "metadata": {},
   "source": [
    "<h3>2.</h3>"
   ]
  },
  {
   "cell_type": "code",
   "execution_count": 8,
   "id": "5fa71382",
   "metadata": {},
   "outputs": [
    {
     "name": "stdout",
     "output_type": "stream",
     "text": [
      "❻\n"
     ]
    }
   ],
   "source": [
    "# # Reproduce the Bug\n",
    "# from random import randint\n",
    "# dice_imgs = [\"❶\", \"❷\", \"❸\", \"❹\", \"❺\", \"❻\"]\n",
    "# dice_num = randint(1, 6)\n",
    "# print(dice_imgs[dice_num])\n",
    "\n",
    "from random import randint\n",
    "dice_imgs = [\"❶\", \"❷\", \"❸\", \"❹\", \"❺\", \"❻\"]\n",
    "dice_num = randint(0,5)\n",
    "print(dice_imgs[dice_num])"
   ]
  },
  {
   "cell_type": "markdown",
   "id": "384b4ed3",
   "metadata": {},
   "source": [
    "<h3>3.</h3>"
   ]
  },
  {
   "cell_type": "code",
   "execution_count": 31,
   "id": "f8762eb9",
   "metadata": {},
   "outputs": [
    {
     "name": "stdout",
     "output_type": "stream",
     "text": [
      "What's your year of birth?1994\n",
      "You are a millenial.\n"
     ]
    }
   ],
   "source": [
    "# # Play Computer\n",
    "# year = int(input(\"What's your year of birth?\"))\n",
    "# if year > 1980 and year < 1994:\n",
    "#   print(\"You are a millenial.\")\n",
    "# elif year > 1994:\n",
    "#   print(\"You are a Gen Z.\")\n",
    "\n",
    "year = int(input(\"What's your year of birth?\"))\n",
    "if year >= 1980 and year <= 1994:\n",
    "    print(\"You are a millenial.\")\n",
    "elif year > 1994:\n",
    "    print(\"you are a Gen Z.\")\n"
   ]
  },
  {
   "cell_type": "markdown",
   "id": "67a5958a",
   "metadata": {},
   "source": [
    "<h3>4.</h3>"
   ]
  },
  {
   "cell_type": "code",
   "execution_count": 13,
   "id": "cb616c6f",
   "metadata": {},
   "outputs": [
    {
     "name": "stdout",
     "output_type": "stream",
     "text": [
      "How old are you?23\n",
      "you can drive at age 23.\n"
     ]
    }
   ],
   "source": [
    "# # Fix the Errors\n",
    "# age = input(\"How old are you?\")\n",
    "# if age > 18:\n",
    "# print(\"You can drive at age {age}.\")\n",
    "\n",
    "age = int(input(\"How old are you?\"))\n",
    "if age > 18:\n",
    "    print(f\"you can drive at age {age}.\")"
   ]
  },
  {
   "cell_type": "markdown",
   "id": "8df676f1",
   "metadata": {},
   "source": [
    "<h3>5.</h3>"
   ]
  },
  {
   "cell_type": "code",
   "execution_count": 15,
   "id": "8a70db70",
   "metadata": {},
   "outputs": [
    {
     "name": "stdout",
     "output_type": "stream",
     "text": [
      "Number of pages: 4\n",
      "Number of words per page: 50\n",
      "200\n"
     ]
    }
   ],
   "source": [
    "# #Print is Your Friend\n",
    "# pages = 0\n",
    "# word_per_page = 0\n",
    "# pages = int(input(\"Number of pages: \"))\n",
    "# word_per_page == int(input(\"Number of words per page: \"))\n",
    "# total_words = pages * word_per_page\n",
    "# print(total_words)\n",
    "\n",
    "pages = 0\n",
    "word_per_page = 0\n",
    "pages = int(input(\"Number of pages: \"))\n",
    "word_per_page = int(input(\"Number of words per page: \"))\n",
    "total_words = pages * word_per_page\n",
    "print(total_words)"
   ]
  },
  {
   "cell_type": "markdown",
   "id": "4df36139",
   "metadata": {},
   "source": [
    "<h3>6.</h3>"
   ]
  },
  {
   "cell_type": "code",
   "execution_count": 24,
   "id": "168dec35",
   "metadata": {},
   "outputs": [
    {
     "data": {
      "text/plain": [
       "[2, 4, 6, 10, 16, 26]"
      ]
     },
     "execution_count": 24,
     "metadata": {},
     "output_type": "execute_result"
    }
   ],
   "source": [
    "# #Use a Debugger\n",
    "# def mutate(a_list):\n",
    "#   b_list = []\n",
    "#   for item in a_list:\n",
    "#     new_item = item * 2\n",
    "#   b_list.append(new_item)\n",
    "#   print(b_list)\n",
    "\n",
    "# mutate([1,2,3,5,8,13])\n",
    "\n",
    "def mutate(a_list):\n",
    "    b_list = []\n",
    "    for item in a_list:\n",
    "        new_item = item * 2\n",
    "        b_list.append(new_item)\n",
    "    return b_list\n",
    "mutate([1,2,3,5,8,13])"
   ]
  },
  {
   "cell_type": "markdown",
   "id": "44101aec",
   "metadata": {},
   "source": [
    "<h3>7.</h3>"
   ]
  },
  {
   "cell_type": "code",
   "execution_count": 35,
   "id": "83f04e3d",
   "metadata": {},
   "outputs": [
    {
     "name": "stdout",
     "output_type": "stream",
     "text": [
      "write a number\n",
      "20\n",
      "This is an even number.\n"
     ]
    }
   ],
   "source": [
    "# number = int(input(\"write a number\\n\"))\n",
    "# if number % 2 = 0:\n",
    "#     print('This is an even number.')\n",
    "# else:\n",
    "#     print(\"This is an odd number.\")\n",
    "\n",
    "number = int(input(\"write a number\\n\"))\n",
    "if number % 2 == 0:\n",
    "    print('This is an even number.')\n",
    "else:\n",
    "    print(\"This is an odd number.\")"
   ]
  },
  {
   "cell_type": "markdown",
   "id": "442506e8",
   "metadata": {},
   "source": [
    "<h3>8.</h3>"
   ]
  },
  {
   "cell_type": "code",
   "execution_count": 39,
   "id": "245084ce",
   "metadata": {},
   "outputs": [
    {
     "name": "stdout",
     "output_type": "stream",
     "text": [
      "enter the year\n",
      "2016\n",
      "leap year.\n"
     ]
    }
   ],
   "source": [
    "# year = input()\n",
    "# if year % 4 == 0:\n",
    "#     if year % 100 == 0:\n",
    "#         if year % 400 == 0:\n",
    "#             print('leap year.')\n",
    "#         else:\n",
    "#             print('not leap year.')\n",
    "#     else:\n",
    "#         print('leap year.')\n",
    "# else:\n",
    "#     print('not leap year.')\n",
    "\n",
    "year = int(input('enter the year\\n'))\n",
    "if year % 4 == 0:\n",
    "    if year % 100 == 0:\n",
    "        if year % 400 == 0:\n",
    "            print('leap year.')\n",
    "        else:\n",
    "            print('not leap year.')\n",
    "    else:\n",
    "        print('leap year.')\n",
    "else:\n",
    "    print('not leap year.')"
   ]
  },
  {
   "cell_type": "markdown",
   "id": "7eda4e4f",
   "metadata": {},
   "source": [
    "<h3>9.</h3>"
   ]
  },
  {
   "cell_type": "code",
   "execution_count": 47,
   "id": "0cb52aea",
   "metadata": {},
   "outputs": [
    {
     "name": "stdout",
     "output_type": "stream",
     "text": [
      "Enter a number100\n",
      "1\n",
      "2\n",
      "Fizz\n",
      "4\n",
      "Buzz\n",
      "Fizz\n",
      "7\n",
      "8\n",
      "Fizz\n",
      "Buzz\n",
      "11\n",
      "Fizz\n",
      "13\n",
      "14\n",
      "FizzBuzz\n",
      "16\n",
      "17\n",
      "Fizz\n",
      "19\n",
      "Buzz\n",
      "Fizz\n",
      "22\n",
      "23\n",
      "Fizz\n",
      "Buzz\n",
      "26\n",
      "Fizz\n",
      "28\n",
      "29\n",
      "FizzBuzz\n",
      "31\n",
      "32\n",
      "Fizz\n",
      "34\n",
      "Buzz\n",
      "Fizz\n",
      "37\n",
      "38\n",
      "Fizz\n",
      "Buzz\n",
      "41\n",
      "Fizz\n",
      "43\n",
      "44\n",
      "FizzBuzz\n",
      "46\n",
      "47\n",
      "Fizz\n",
      "49\n",
      "Buzz\n",
      "Fizz\n",
      "52\n",
      "53\n",
      "Fizz\n",
      "Buzz\n",
      "56\n",
      "Fizz\n",
      "58\n",
      "59\n",
      "FizzBuzz\n",
      "61\n",
      "62\n",
      "Fizz\n",
      "64\n",
      "Buzz\n",
      "Fizz\n",
      "67\n",
      "68\n",
      "Fizz\n",
      "Buzz\n",
      "71\n",
      "Fizz\n",
      "73\n",
      "74\n",
      "FizzBuzz\n",
      "76\n",
      "77\n",
      "Fizz\n",
      "79\n",
      "Buzz\n",
      "Fizz\n",
      "82\n",
      "83\n",
      "Fizz\n",
      "Buzz\n",
      "86\n",
      "Fizz\n",
      "88\n",
      "89\n",
      "FizzBuzz\n",
      "91\n",
      "92\n",
      "Fizz\n",
      "94\n",
      "Buzz\n",
      "Fizz\n",
      "97\n",
      "98\n",
      "Fizz\n",
      "Buzz\n"
     ]
    }
   ],
   "source": [
    "# target = int(input())\n",
    "# for number in range(1, target + 1):\n",
    "#     if number % 3 == 0 or number % 5 == 0:\n",
    "#         print(\"FizzBuzz\")\n",
    "#     if number % 3 == 0:\n",
    "#         print(\"Fizz\")\n",
    "#     if number % 5 == 0:\n",
    "#         print(\"Buzz\")\n",
    "#     else:\n",
    "#         print([number])\n",
    "\n",
    "target = int(input('Enter a number'))\n",
    "for number in range(1, target + 1):\n",
    "    if number % 3 == 0 and number % 5 == 0:\n",
    "        print(\"FizzBuzz\")\n",
    "    elif number % 3 == 0:\n",
    "        print(\"Fizz\")\n",
    "    elif number % 5 == 0:\n",
    "        print(\"Buzz\")\n",
    "    else:\n",
    "        print(number)"
   ]
  }
 ],
 "metadata": {
  "kernelspec": {
   "display_name": "Python 3 (ipykernel)",
   "language": "python",
   "name": "python3"
  },
  "language_info": {
   "codemirror_mode": {
    "name": "ipython",
    "version": 3
   },
   "file_extension": ".py",
   "mimetype": "text/x-python",
   "name": "python",
   "nbconvert_exporter": "python",
   "pygments_lexer": "ipython3",
   "version": "3.10.5"
  }
 },
 "nbformat": 4,
 "nbformat_minor": 5
}
