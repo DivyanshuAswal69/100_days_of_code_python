{
 "cells": [
  {
   "cell_type": "code",
   "execution_count": 6,
   "id": "ef73a751",
   "metadata": {},
   "outputs": [
    {
     "name": "stdout",
     "output_type": "stream",
     "text": [
      "banana\n",
      "banana Pie\n",
      "guava\n",
      "guava Pie\n",
      "peach\n",
      "peach Pie\n",
      "apple\n",
      "apple Pie\n",
      "['banana', 'guava', 'peach', 'apple']\n"
     ]
    }
   ],
   "source": [
    "fruits = ['banana', 'guava', 'peach', 'apple']\n",
    "for i in fruits:\n",
    "    print(i)\n",
    "    print(i,'Pie')\n",
    "print(fruits)"
   ]
  },
  {
   "cell_type": "markdown",
   "id": "7bb8150a",
   "metadata": {},
   "source": [
    "<h3>Average Height</h3>"
   ]
  },
  {
   "cell_type": "code",
   "execution_count": 21,
   "id": "4d11988b",
   "metadata": {},
   "outputs": [
    {
     "name": "stdout",
     "output_type": "stream",
     "text": [
      "height of all students seperated by a space\n",
      "169 173 189 193\n",
      "total height of students is = 724\n",
      "total number of students = 4\n",
      "average height of students = 181.0\n"
     ]
    }
   ],
   "source": [
    "students_height = input('height of all students seperated by a space\\n').split()\n",
    "height = 0\n",
    "for i in range(0,len(students_height)):\n",
    "    students_height[i] = int(students_height[i])\n",
    "    height += students_height[i]\n",
    "print(f'total height of students is = {height}')\n",
    "\n",
    "number_of_students = 0\n",
    "for i in students_height:\n",
    "    number_of_students += 1\n",
    "print(f'total number of students = {number_of_students}')\n",
    "\n",
    "avg_of_heights = height/number_of_students\n",
    "print(f'average height of students = {avg_of_heights}')"
   ]
  },
  {
   "cell_type": "markdown",
   "id": "658740eb",
   "metadata": {},
   "source": [
    "<h3>High Score</h3>"
   ]
  },
  {
   "cell_type": "code",
   "execution_count": 32,
   "id": "612d78b1",
   "metadata": {},
   "outputs": [
    {
     "name": "stdout",
     "output_type": "stream",
     "text": [
      "enter your marks\n",
      "56 78 89 33\n",
      "highest score of student = 89\n"
     ]
    }
   ],
   "source": [
    "student_scores = input('enter your marks\\n').split()\n",
    "for i in range(0, len(student_scores)):\n",
    "    student_scores[i] = int(student_scores[i])\n",
    "    \n",
    "highest_score = 0\n",
    "for i in student_scores:\n",
    "    if i > highest_score:\n",
    "        highest_score = i\n",
    "print(f'highest score of student = {highest_score}')"
   ]
  },
  {
   "cell_type": "markdown",
   "id": "fcc289e4",
   "metadata": {},
   "source": [
    "<h3>sum of numbers up to a user-input number</h3>"
   ]
  },
  {
   "cell_type": "code",
   "execution_count": 40,
   "id": "5bad402c",
   "metadata": {},
   "outputs": [
    {
     "name": "stdout",
     "output_type": "stream",
     "text": [
      "enter any number100\n",
      "sum of number from 1 to 100 = 5050\n"
     ]
    }
   ],
   "source": [
    "num = int(input('enter any number'))\n",
    "number = 0\n",
    "for i in range(1,num+1):\n",
    "    number += i\n",
    "print(f'sum of number from 1 to {num} = {number}')"
   ]
  },
  {
   "cell_type": "markdown",
   "id": "b0ac3501",
   "metadata": {},
   "source": [
    "<h3>Adding Even Numbers</h3>"
   ]
  },
  {
   "cell_type": "code",
   "execution_count": 48,
   "id": "6bfe7ebe",
   "metadata": {},
   "outputs": [
    {
     "name": "stdout",
     "output_type": "stream",
     "text": [
      "enter the number100\n",
      "sum of number from 1 to 100 = 2550\n"
     ]
    }
   ],
   "source": [
    "num = int(input('enter the number'))\n",
    "number = 0\n",
    "for i in range(2, num+1,2):\n",
    "    number += i\n",
    "print(f'sum of number from 1 to {num} = {number}')"
   ]
  },
  {
   "cell_type": "markdown",
   "id": "0e610ecb",
   "metadata": {},
   "source": [
    "<h3>The FizzBuzz Job Interview Question</h3>"
   ]
  },
  {
   "cell_type": "code",
   "execution_count": 54,
   "id": "bd33d0ca",
   "metadata": {},
   "outputs": [
    {
     "name": "stdout",
     "output_type": "stream",
     "text": [
      "enter the number100\n",
      "1\n",
      "2\n",
      "Fizz\n",
      "4\n",
      "Buzz\n",
      "Fizz\n",
      "7\n",
      "8\n",
      "Fizz\n",
      "Buzz\n",
      "11\n",
      "Fizz\n",
      "13\n",
      "14\n",
      "FizzBuzz\n",
      "16\n",
      "17\n",
      "Fizz\n",
      "19\n",
      "Buzz\n",
      "Fizz\n",
      "22\n",
      "23\n",
      "Fizz\n",
      "Buzz\n",
      "26\n",
      "Fizz\n",
      "28\n",
      "29\n",
      "FizzBuzz\n",
      "31\n",
      "32\n",
      "Fizz\n",
      "34\n",
      "Buzz\n",
      "Fizz\n",
      "37\n",
      "38\n",
      "Fizz\n",
      "Buzz\n",
      "41\n",
      "Fizz\n",
      "43\n",
      "44\n",
      "FizzBuzz\n",
      "46\n",
      "47\n",
      "Fizz\n",
      "49\n",
      "Buzz\n",
      "Fizz\n",
      "52\n",
      "53\n",
      "Fizz\n",
      "Buzz\n",
      "56\n",
      "Fizz\n",
      "58\n",
      "59\n",
      "FizzBuzz\n",
      "61\n",
      "62\n",
      "Fizz\n",
      "64\n",
      "Buzz\n",
      "Fizz\n",
      "67\n",
      "68\n",
      "Fizz\n",
      "Buzz\n",
      "71\n",
      "Fizz\n",
      "73\n",
      "74\n",
      "FizzBuzz\n",
      "76\n",
      "77\n",
      "Fizz\n",
      "79\n",
      "Buzz\n",
      "Fizz\n",
      "82\n",
      "83\n",
      "Fizz\n",
      "Buzz\n",
      "86\n",
      "Fizz\n",
      "88\n",
      "89\n",
      "FizzBuzz\n",
      "91\n",
      "92\n",
      "Fizz\n",
      "94\n",
      "Buzz\n",
      "Fizz\n",
      "97\n",
      "98\n",
      "Fizz\n",
      "Buzz\n"
     ]
    }
   ],
   "source": [
    "num = int(input('enter the number'))\n",
    "for i in range(1,num+1):\n",
    "    if i % 3 == 0 and i % 5 == 0:\n",
    "        print('FizzBuzz')\n",
    "    elif i % 3 ==0:\n",
    "        print('Fizz')\n",
    "    elif i % 5 == 0:\n",
    "        print('Buzz')\n",
    "    else:\n",
    "        print(i)"
   ]
  },
  {
   "cell_type": "markdown",
   "id": "4fc1e1d5",
   "metadata": {},
   "source": [
    "<h3>Create a Password Generator - Simple</h3>"
   ]
  },
  {
   "cell_type": "code",
   "execution_count": 35,
   "id": "695deb33",
   "metadata": {},
   "outputs": [
    {
     "name": "stdout",
     "output_type": "stream",
     "text": [
      "Welcome to the PyPassword Generator!\n",
      "How many letters would you like in your password?\n",
      "5\n",
      "How many symbols would you like?\n",
      "4\n",
      "How many numbers would you like?\n",
      "6\n",
      "Your password is = UtYzu$)*$093929\n"
     ]
    }
   ],
   "source": [
    "import random\n",
    "letters = ['a', 'b', 'c', 'd', 'e', 'f', 'g', 'h', 'i', 'j', 'k', 'l', 'm', 'n', 'o',\n",
    "           'p', 'q', 'r', 's', 't', 'u', 'v', 'w', 'x', 'y', 'z', 'A', 'B', 'C', 'D',\n",
    "           'E', 'F', 'G', 'H', 'I', 'J', 'K', 'L', 'M', 'N', 'O', 'P', 'Q', 'R', 'S',\n",
    "           'T', 'U', 'V', 'W', 'X', 'Y', 'Z']\n",
    "numbers = ['0', '1', '2', '3', '4', '5', '6', '7', '8', '9']\n",
    "symbols = ['!', '#', '$', '%', '&', '(', ')', '*', '+']\n",
    "print(\"Welcome to the PyPassword Generator!\")\n",
    "nr_letters= int(input(\"How many letters would you like in your password?\\n\")) \n",
    "nr_symbols = int(input(f\"How many symbols would you like?\\n\"))\n",
    "nr_numbers = int(input(f\"How many numbers would you like?\\n\"))\n",
    "\n",
    "total_letter = []\n",
    "for letter in range(0, nr_letters): \n",
    "    total_letter.append(random.choice(letters))\n",
    "\n",
    "total_symbols = []\n",
    "for symbol in range(0,nr_symbols):\n",
    "    total_symbols.append(random.choice(symbols))\n",
    "\n",
    "total_numbers = []\n",
    "for number in range(0,nr_numbers):\n",
    "    total_numbers.append(random.choice(numbers))\n",
    "\n",
    "list1 = total_letter + total_symbols + total_numbers\n",
    "password = ''.join(list1)\n",
    "print(f'Your password is = {password}')"
   ]
  },
  {
   "cell_type": "markdown",
   "id": "d013632a",
   "metadata": {},
   "source": [
    "<h3>Create a Password Generator - Advanced</h3>"
   ]
  },
  {
   "cell_type": "code",
   "execution_count": 34,
   "id": "f3c6a981",
   "metadata": {},
   "outputs": [
    {
     "name": "stdout",
     "output_type": "stream",
     "text": [
      "Welcome to the PyPassword Generator!\n",
      "How many letters would you like in your password?\n",
      "5\n",
      "How many symbols would you like?\n",
      "3\n",
      "How many numbers would you like?\n",
      "6\n",
      "Your password is = ok3oj!03#!3533\n"
     ]
    }
   ],
   "source": [
    "import random\n",
    "letters = ['a', 'b', 'c', 'd', 'e', 'f', 'g', 'h', 'i', 'j', 'k', 'l', 'm', 'n', 'o',\n",
    "           'p', 'q', 'r', 's', 't', 'u', 'v', 'w', 'x', 'y', 'z', 'A', 'B', 'C', 'D',\n",
    "           'E', 'F', 'G', 'H', 'I', 'J', 'K', 'L', 'M', 'N', 'O', 'P', 'Q', 'R', 'S',\n",
    "           'T', 'U', 'V', 'W', 'X', 'Y', 'Z']\n",
    "numbers = ['0', '1', '2', '3', '4', '5', '6', '7', '8', '9']\n",
    "symbols = ['!', '#', '$', '%', '&', '(', ')', '*', '+']\n",
    "print(\"Welcome to the PyPassword Generator!\")\n",
    "nr_letters= int(input(\"How many letters would you like in your password?\\n\")) \n",
    "nr_symbols = int(input(f\"How many symbols would you like?\\n\"))\n",
    "nr_numbers = int(input(f\"How many numbers would you like?\\n\"))\n",
    "\n",
    "total_letter = []\n",
    "for letter in range(0, nr_letters): \n",
    "    total_letter.append(random.choice(letters))\n",
    "\n",
    "total_symbols = []\n",
    "for symbol in range(0,nr_symbols):\n",
    "    total_symbols.append(random.choice(symbols))\n",
    "\n",
    "total_numbers = []\n",
    "for number in range(0,nr_numbers):\n",
    "    total_numbers.append(random.choice(numbers))\n",
    "    \n",
    "list1 = total_letter + total_symbols + total_numbers\n",
    "\n",
    "# Or can use random.shuffle() to shuffle items of the list\n",
    "list2 = [] \n",
    "for word in range(0,(nr_letters + nr_symbols + nr_numbers)):\n",
    "    list2.append(random.choice(list1))\n",
    "\n",
    "password = ''.join(list2)\n",
    "print(f'Your password is = {password}')"
   ]
  },
  {
   "cell_type": "code",
   "execution_count": 36,
   "id": "ecd359fb",
   "metadata": {},
   "outputs": [
    {
     "name": "stdout",
     "output_type": "stream",
     "text": [
      "Welcome to the PyPassword Generator!\n",
      "How many letters would you like in your password?\n",
      "4\n",
      "How many symbols would you like?\n",
      "5\n",
      "How many numbers would you like?\n",
      "6\n",
      "zlLw+!&!+304476\n"
     ]
    }
   ],
   "source": [
    "# Angela Yu's method for creating a password - Simple\n",
    "#Password Generator Project\n",
    "import random\n",
    "letters = ['a', 'b', 'c', 'd', 'e', 'f', 'g', 'h', 'i', 'j', 'k', 'l', 'm',\n",
    "           'n', 'o', 'p', 'q', 'r', 's', 't', 'u', 'v', 'w', 'x', 'y', 'z',\n",
    "           'A', 'B', 'C', 'D', 'E', 'F', 'G', 'H', 'I', 'J', 'K', 'L', 'M',\n",
    "           'N', 'O', 'P', 'Q', 'R', 'S', 'T', 'U', 'V', 'W', 'X', 'Y', 'Z']\n",
    "numbers = ['0', '1', '2', '3', '4', '5', '6', '7', '8', '9']\n",
    "symbols = ['!', '#', '$', '%', '&', '(', ')', '*', '+']\n",
    "\n",
    "print(\"Welcome to the PyPassword Generator!\")\n",
    "nr_letters = int(input(\"How many letters would you like in your password?\\n\")) \n",
    "nr_symbols = int(input(f\"How many symbols would you like?\\n\"))\n",
    "nr_numbers = int(input(f\"How many numbers would you like?\\n\"))\n",
    "\n",
    "#Eazy Level\n",
    "password = \"\"\n",
    "\n",
    "for char in range(1, nr_letters + 1):\n",
    "  password += random.choice(letters)\n",
    "\n",
    "for char in range(1, nr_symbols + 1):\n",
    "  password += random.choice(symbols)\n",
    "\n",
    "for char in range(1, nr_numbers + 1):\n",
    "  password += random.choice(numbers)\n",
    "\n",
    "print(password)"
   ]
  },
  {
   "cell_type": "code",
   "execution_count": 37,
   "id": "f973ee09",
   "metadata": {},
   "outputs": [
    {
     "name": "stdout",
     "output_type": "stream",
     "text": [
      "Welcome to the PyPassword Generator!\n",
      "How many letters would you like in your password?\n",
      "5\n",
      "How many symbols would you like?\n",
      "4\n",
      "How many numbers would you like?\n",
      "6\n",
      "['Q', 'R', 'Z', 't', 'y', '$', '%', '(', '#', '8', '0', '9', '4', '1', '7']\n",
      "['$', '7', 'Q', 'Z', '9', '1', '(', 'y', 't', '4', 'R', '%', '8', '#', '0']\n",
      "Your password is: $7QZ91(yt4R%8#0\n"
     ]
    }
   ],
   "source": [
    "# Angela Yu's method for creating a password - Advanced\n",
    "import random\n",
    "letters = ['a', 'b', 'c', 'd', 'e', 'f', 'g', 'h', 'i', 'j', 'k', 'l', 'm',\n",
    "           'n', 'o', 'p', 'q', 'r', 's', 't', 'u', 'v', 'w', 'x', 'y', 'z',\n",
    "           'A', 'B', 'C', 'D', 'E', 'F', 'G', 'H', 'I', 'J', 'K', 'L', 'M',\n",
    "           'N', 'O', 'P', 'Q', 'R', 'S', 'T', 'U', 'V', 'W', 'X', 'Y', 'Z']\n",
    "numbers = ['0', '1', '2', '3', '4', '5', '6', '7', '8', '9']\n",
    "symbols = ['!', '#', '$', '%', '&', '(', ')', '*', '+']\n",
    "\n",
    "print(\"Welcome to the PyPassword Generator!\")\n",
    "nr_letters = int(input(\"How many letters would you like in your password?\\n\")) \n",
    "nr_symbols = int(input(f\"How many symbols would you like?\\n\"))\n",
    "nr_numbers = int(input(f\"How many numbers would you like?\\n\"))\n",
    "\n",
    "password_list = []\n",
    "\n",
    "for char in range(1, nr_letters + 1):\n",
    "  password_list.append(random.choice(letters))\n",
    "\n",
    "for char in range(1, nr_symbols + 1):\n",
    "  password_list += random.choice(symbols)\n",
    "\n",
    "for char in range(1, nr_numbers + 1):\n",
    "  password_list += random.choice(numbers)\n",
    "\n",
    "print(password_list)\n",
    "random.shuffle(password_list)\n",
    "print(password_list)\n",
    "\n",
    "password = \"\"\n",
    "for char in password_list:\n",
    "  password += char\n",
    "\n",
    "print(f\"Your password is: {password}\")"
   ]
  }
 ],
 "metadata": {
  "kernelspec": {
   "display_name": "Python 3 (ipykernel)",
   "language": "python",
   "name": "python3"
  },
  "language_info": {
   "codemirror_mode": {
    "name": "ipython",
    "version": 3
   },
   "file_extension": ".py",
   "mimetype": "text/x-python",
   "name": "python",
   "nbconvert_exporter": "python",
   "pygments_lexer": "ipython3",
   "version": "3.9.13"
  }
 },
 "nbformat": 4,
 "nbformat_minor": 5
}
