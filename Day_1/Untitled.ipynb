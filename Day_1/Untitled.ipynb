{
 "cells": [
  {
   "cell_type": "markdown",
   "id": "c8b1b042",
   "metadata": {},
   "source": [
    "<h2>Day_1_Project: - Band_Name_Generator</h2>"
   ]
  },
  {
   "cell_type": "markdown",
   "id": "308aa9e4",
   "metadata": {},
   "source": [
    "<h4>Objective:\n",
    "Create a Python program that generates unique band names by combining a city name and a pet name.</h4>"
   ]
  },
  {
   "cell_type": "code",
   "execution_count": 1,
   "id": "1094f328",
   "metadata": {},
   "outputs": [
    {
     "name": "stdout",
     "output_type": "stream",
     "text": [
      "Welcome to the Band Name Generator.\n",
      "What's the name of the city you grew up in?\n",
      "Bengal\n",
      "what's the name of your pet?\n",
      "Tiger\n",
      "Your band name is Bengal Tiger\n"
     ]
    }
   ],
   "source": [
    "print('Welcome to the Band Name Generator.')\n",
    "band_name = input('What\\'s the name of the city you grew up in?\\n')\n",
    "pet_name = input('what\\'s the name of your pet?\\n')\n",
    "print('Your band name is', band_name, pet_name)"
   ]
  }
 ],
 "metadata": {
  "kernelspec": {
   "display_name": "Python 3 (ipykernel)",
   "language": "python",
   "name": "python3"
  },
  "language_info": {
   "codemirror_mode": {
    "name": "ipython",
    "version": 3
   },
   "file_extension": ".py",
   "mimetype": "text/x-python",
   "name": "python",
   "nbconvert_exporter": "python",
   "pygments_lexer": "ipython3",
   "version": "3.9.13"
  }
 },
 "nbformat": 4,
 "nbformat_minor": 5
}
