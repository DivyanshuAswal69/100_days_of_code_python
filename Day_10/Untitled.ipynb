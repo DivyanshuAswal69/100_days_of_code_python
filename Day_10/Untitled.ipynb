{
 "cells": [
  {
   "cell_type": "code",
   "execution_count": 7,
   "id": "79bf8d52",
   "metadata": {},
   "outputs": [
    {
     "name": "stdout",
     "output_type": "stream",
     "text": [
      "None\n"
     ]
    }
   ],
   "source": [
    "def my_func():\n",
    "    result = 4*3\n",
    "a = my_func()\n",
    "print(a)"
   ]
  },
  {
   "cell_type": "code",
   "execution_count": 6,
   "id": "c4d6074c",
   "metadata": {},
   "outputs": [
    {
     "name": "stdout",
     "output_type": "stream",
     "text": [
      "12\n"
     ]
    }
   ],
   "source": [
    "def my_func():\n",
    "    result = 4*3\n",
    "    return result\n",
    "a = my_func()\n",
    "print(a)"
   ]
  },
  {
   "cell_type": "code",
   "execution_count": 29,
   "id": "21f95e83",
   "metadata": {},
   "outputs": [
    {
     "name": "stdout",
     "output_type": "stream",
     "text": [
      "my name is Angela Yu\n"
     ]
    }
   ],
   "source": [
    "def format_name(name, last):\n",
    "    a = name.title()\n",
    "    b = last.title()\n",
    "    return f'my name is {a} {b}'\n",
    "c = format_name('ANGELA','yU')\n",
    "print(c)"
   ]
  },
  {
   "cell_type": "code",
   "execution_count": 32,
   "id": "fb0bdc69",
   "metadata": {},
   "outputs": [
    {
     "name": "stdout",
     "output_type": "stream",
     "text": [
      "What is your first name?\n",
      "What is your last name?\n",
      "you didn't provide valid inputs\n"
     ]
    }
   ],
   "source": [
    "def format_name(name, last):\n",
    "    if name == \"\" or last == \"\":\n",
    "        return 'you didn\\'t provide valid inputs'\n",
    "    a = name.title()\n",
    "    b = last.title()\n",
    "    return f'my name is {a} {b}'\n",
    "c = format_name(input('What is your first name?'), input('What is your last name?'))\n",
    "print(c)"
   ]
  },
  {
   "cell_type": "code",
   "execution_count": 46,
   "id": "13592ba3",
   "metadata": {},
   "outputs": [
    {
     "name": "stdout",
     "output_type": "stream",
     "text": [
      "Enter the year\n",
      "2000\n",
      "Enter the month\n",
      "4\n",
      "number of days in month = 30\n"
     ]
    }
   ],
   "source": [
    "def leap_year(year):\n",
    "    if year % 4 == 0:\n",
    "        if year % 100 == 0:\n",
    "            if year % 400 == 0:\n",
    "                return True\n",
    "        else:\n",
    "            return True\n",
    "    else:\n",
    "        return False\n",
    "\n",
    "    \n",
    "def days_in_month(year, month):\n",
    "    month_days = [31,28,31,30,31,30,31,31,30,31,30,31]\n",
    "    while month < 1 or month > 12:\n",
    "        print('Please enter a valid month (1 to 12).')\n",
    "        month = int(input('Enter the month\\n'))\n",
    "\n",
    "    if month == 2 and is_leap(year):\n",
    "        return 29\n",
    "    else:\n",
    "        return month_days[month - 1]\n",
    "year = int(input('Enter the year\\n'))\n",
    "month = int(input('Enter the month\\n'))\n",
    "days = days_in_month(year,month)\n",
    "print(f'number of days in month = {days}')"
   ]
  },
  {
   "cell_type": "markdown",
   "id": "7511bb14",
   "metadata": {},
   "source": [
    "<h3>Project: - Calculator Part 1: Combining Dictionaries and Functions</h3>"
   ]
  },
  {
   "cell_type": "code",
   "execution_count": 24,
   "id": "1ffdb09c",
   "metadata": {},
   "outputs": [
    {
     "name": "stdout",
     "output_type": "stream",
     "text": [
      "enter first number.\n",
      "4\n",
      "+\n",
      "-\n",
      "*\n",
      "/\n",
      "pick an operation from the line above:\n",
      "*\n",
      "enter second number.\n",
      "4\n",
      "4 * 4 = 16\n"
     ]
    }
   ],
   "source": [
    "def add(n1, n2):\n",
    "    return n1 + n2\n",
    "\n",
    "def subtract(n1, n2):\n",
    "    return n1 - n2\n",
    "\n",
    "def multiply(n1, n2):\n",
    "    return n1 * n2\n",
    "\n",
    "def divide(n1, n2):\n",
    "    return n1 / n2\n",
    " \n",
    "operations = {\n",
    "    '+': add,\n",
    "    '-': subtract,\n",
    "    '*': multiply,\n",
    "    '/': divide\n",
    "}\n",
    "\n",
    "num1 = int(input('enter first number.\\n'))\n",
    "for i in operations:\n",
    "    print(i)\n",
    "operation_symbol = input('pick an operation from the line above:\\n')\n",
    "num2 = int(input('enter second number.\\n'))\n",
    "  \n",
    "# if operation_symbol == '*':\n",
    "#     a = multiply(num1, num2)\n",
    "#     print(a)\n",
    "# elif operation_symbol == '+':\n",
    "#     b = add(num1, num2)\n",
    "#     print(b)\n",
    "# elif operation_symbol == '-':\n",
    "#     c = subtract(num1, num2)\n",
    "#     print(c)\n",
    "# elif operation_symbol == 'divide':\n",
    "#     d = divide(num1, num2)\n",
    "#     print(d)\n",
    "# else:\n",
    "#     print('please enter valid operation. try again!')\n",
    "\n",
    "# OR\n",
    "\n",
    "if operation_symbol in operations:\n",
    "    result = operations[operation_symbol](num1, num2)\n",
    "    print(f'{num1} {operation_symbol} {num2} = {result}')\n",
    "else:\n",
    "    print('please enter a vaild operation. try again!')"
   ]
  },
  {
   "cell_type": "markdown",
   "id": "70ada913",
   "metadata": {},
   "source": [
    "<h3>Project: - Calculator Part 2</h3>"
   ]
  },
  {
   "cell_type": "code",
   "execution_count": 47,
   "id": "0f0bf284",
   "metadata": {},
   "outputs": [
    {
     "name": "stdout",
     "output_type": "stream",
     "text": [
      "\n",
      " _____________________\n",
      "|  _________________  |\n",
      "| | Pythonista   0. | |  .----------------.  .----------------.  .----------------.  .----------------. \n",
      "| |_________________| | | .--------------. || .--------------. || .--------------. || .--------------. |\n",
      "|  ___ ___ ___   ___  | | |     ______   | || |      __      | || |   _____      | || |     ______   | |\n",
      "| | 7 | 8 | 9 | | + | | | |   .' ___  |  | || |     /  \\     | || |  |_   _|     | || |   .' ___  |  | |\n",
      "| |___|___|___| |___| | | |  / .'   \\_|  | || |    / /\\ \\    | || |    | |       | || |  / .'   \\_|  | |\n",
      "| | 4 | 5 | 6 | | - | | | |  | |         | || |   / ____ \\   | || |    | |   _   | || |  | |         | |\n",
      "| |___|___|___| |___| | | |  \\ `.___.'\\  | || | _/ /    \\ \\_ | || |   _| |__/ |  | || |  \\ `.___.'\\  | |\n",
      "| | 1 | 2 | 3 | | x | | | |   `._____.'  | || ||____|  |____|| || |  |________|  | || |   `._____.'  | |\n",
      "| |___|___|___| |___| | | |              | || |              | || |              | || |              | |\n",
      "| | . | 0 | = | | / | | | '--------------' || '--------------' || '--------------' || '--------------' |\n",
      "| |___|___|___| |___| |  '----------------'  '----------------'  '----------------'  '----------------' \n",
      "|_____________________|\n",
      "\n",
      "enter first number.\n",
      "5\n",
      "+\n",
      "-\n",
      "*\n",
      "/\n",
      "pick an operation:\n",
      "*\n",
      "enter number.\n",
      "6\n",
      "The result of your calculation is = 30.0\n",
      "Type \"y\" for yes.\n",
      "\"n\" for no.\n",
      "\"s\" to start over again\n",
      "y\n",
      "pick an operation:\n",
      "+\n",
      "enter number.\n",
      "10\n",
      "The result of your calculation is = 40.0\n",
      "Type \"y\" for yes.\n",
      "\"n\" for no.\n",
      "\"s\" to start over again\n",
      "s\n",
      "The result of your calculation is = 40.0\n",
      "enter first number.\n",
      "6\n",
      "+\n",
      "-\n",
      "*\n",
      "/\n",
      "pick an operation:\n",
      "+\n",
      "enter number.\n",
      "57\n",
      "The result of your calculation is = 63.0\n",
      "Type \"y\" for yes.\n",
      "\"n\" for no.\n",
      "\"s\" to start over again\n",
      "n\n",
      "The result of your calculation is = 63.0\n"
     ]
    }
   ],
   "source": [
    "from art import logo\n",
    "print(logo)\n",
    "def add(n1, n2):\n",
    "    return n1 + n2\n",
    "\n",
    "def subtract(n1, n2):\n",
    "    return n1 - n2\n",
    "\n",
    "def multiply(n1, n2):\n",
    "    return n1 * n2\n",
    "\n",
    "def divide(n1, n2):\n",
    "    return n1 / n2\n",
    " \n",
    "operations = {\n",
    "    '+': add,\n",
    "    '-': subtract,\n",
    "    '*': multiply,\n",
    "    '/': divide\n",
    "}\n",
    "\n",
    "def calculator():\n",
    "    num1 = float(input('enter first number.\\n'))\n",
    "    for i in operations:\n",
    "        print(i) \n",
    "\n",
    "    should_continue = True\n",
    "    while should_continue == True:\n",
    "        operation_symbol = input('pick an operation:\\n')\n",
    "        num2 = float(input('enter number.\\n'))\n",
    "        if operation_symbol in operations:\n",
    "            result = operations[operation_symbol](num1, num2)\n",
    "            print(f'The result of your calculation is = {result}')\n",
    "        else:\n",
    "            print('please enter a vaild operation. try again!')\n",
    "\n",
    "        user_choice = input('Type \"y\" for yes.\\n\"n\" for no.\\n\"s\" to start over again\\n').lower()\n",
    "        if user_choice == 'y':\n",
    "            num1 = result\n",
    "        elif user_choice == 'n':\n",
    "            print(f'The result of your calculation is = {result}')\n",
    "            should_continue = False \n",
    "        else:\n",
    "            should_continue = False\n",
    "            print(f'The result of your calculation is = {result}')\n",
    "            calculator()\n",
    "calculator()"
   ]
  }
 ],
 "metadata": {
  "kernelspec": {
   "display_name": "Python 3 (ipykernel)",
   "language": "python",
   "name": "python3"
  },
  "language_info": {
   "codemirror_mode": {
    "name": "ipython",
    "version": 3
   },
   "file_extension": ".py",
   "mimetype": "text/x-python",
   "name": "python",
   "nbconvert_exporter": "python",
   "pygments_lexer": "ipython3",
   "version": "3.10.5"
  }
 },
 "nbformat": 4,
 "nbformat_minor": 5
}
