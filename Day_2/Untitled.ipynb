{
 "cells": [
  {
   "cell_type": "markdown",
   "id": "6bdad1d2",
   "metadata": {},
   "source": [
    "<h1>Day_2_Project: - Tip_Calculator</h1>"
   ]
  },
  {
   "cell_type": "markdown",
   "id": "ceb0dda5",
   "metadata": {},
   "source": [
    "<h4>Objective:\n",
    "On Day 2 of the \"100 Days of Code with Angela Yu,\" \n",
    "the objective is to create a Python Tip Calculator. \n",
    "This project introduces fundamental concepts of user input, \n",
    "mathematical operations, and output, building a practical application \n",
    "for calculating tips based on user inputs.</h4>"
   ]
  },
  {
   "cell_type": "code",
   "execution_count": 9,
   "id": "9cbe63a6",
   "metadata": {},
   "outputs": [
    {
     "name": "stdout",
     "output_type": "stream",
     "text": [
      "Welcome to the tip calculator\n",
      "What was the total bill?\n",
      "$230.78\n",
      "how many people to split the bill?\n",
      "8\n",
      "what percentage tip you like to give?\n",
      "10\n",
      "Each person has to pay $31.73\n"
     ]
    }
   ],
   "source": [
    "print('Welcome to the tip calculator')\n",
    "total_bill = float(input('What was the total bill?\\n''$'))\n",
    "total_people = int(input('how many people to split the bill?\\n'))\n",
    "add_tip = float(input('what percentage tip you like to give?\\n'))\n",
    "calc = (total_bill * (add_tip/100))\n",
    "each_person_to_pay = round((calc + total_bill)/total_people,2)\n",
    "print(f'Each person has to pay ${each_person_to_pay}')"
   ]
  }
 ],
 "metadata": {
  "kernelspec": {
   "display_name": "Python 3 (ipykernel)",
   "language": "python",
   "name": "python3"
  },
  "language_info": {
   "codemirror_mode": {
    "name": "ipython",
    "version": 3
   },
   "file_extension": ".py",
   "mimetype": "text/x-python",
   "name": "python",
   "nbconvert_exporter": "python",
   "pygments_lexer": "ipython3",
   "version": "3.9.13"
  }
 },
 "nbformat": 4,
 "nbformat_minor": 5
}
