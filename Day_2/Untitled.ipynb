{
 "cells": [
  {
   "cell_type": "markdown",
   "id": "6bdad1d2",
   "metadata": {},
   "source": [
    "<h1>Day_2_Project: - Tip_Calculator</h1>"
   ]
  },
  {
   "cell_type": "markdown",
   "id": "ceb0dda5",
   "metadata": {},
   "source": [
    "<h4>Objective:\n",
    "On Day 2 of the \"100 Days of Code with Angela Yu,\" \n",
    "the objective is to create a Python Tip Calculator. \n",
    "This project introduces fundamental concepts of user input, \n",
    "mathematical operations, and output, building a practical application \n",
    "for calculating tips based on user inputs.</h4>"
   ]
  },
  {
   "cell_type": "code",
   "execution_count": 1,
   "id": "9cbe63a6",
   "metadata": {},
   "outputs": [
    {
     "name": "stdout",
     "output_type": "stream",
     "text": [
      "Welcome to the tip calculator\n",
      "What was the total bill?\n",
      "$500\n",
      "how many people to split the bill?\n",
      "6\n",
      "what percentage tip you like to give?\n",
      "0\n",
      "Each person has to pay $83.33\n"
     ]
    }
   ],
   "source": [
    "print('Welcome to the tip calculator')\n",
    "total_bill = float(input('What was the total bill?\\n''$'))\n",
    "total_people = int(input('how many people to split the bill?\\n'))\n",
    "add_tip = float(input('what percentage tip you like to give?\\n'))\n",
    "calc = (total_bill * (add_tip/100))\n",
    "each_person_to_pay = round((calc + total_bill)/total_people,2)\n",
    "print(f'Each person has to pay ${each_person_to_pay}')"
   ]
  },
  {
   "cell_type": "markdown",
   "id": "81ea6317",
   "metadata": {},
   "source": [
    "<h3>Question: Write a Python Code for Adding Two Numbers</h3>"
   ]
  },
  {
   "cell_type": "code",
   "execution_count": 2,
   "id": "8dd2babe",
   "metadata": {},
   "outputs": [
    {
     "name": "stdout",
     "output_type": "stream",
     "text": [
      "enter any two digit number\n",
      "45\n",
      "sum of 4 and 5 = 9\n"
     ]
    }
   ],
   "source": [
    "number = input('enter any two digit number\\n')\n",
    "output = int(number[0]) + int(number[1])\n",
    "print(f'sum of {number[0]} and {number[1]} = {output}')"
   ]
  },
  {
   "cell_type": "markdown",
   "id": "323c1292",
   "metadata": {},
   "source": [
    "<h3>Question: Write a code to calculate BMI of a person</h3>"
   ]
  },
  {
   "cell_type": "code",
   "execution_count": 4,
   "id": "17a4547b",
   "metadata": {},
   "outputs": [
    {
     "name": "stdout",
     "output_type": "stream",
     "text": [
      "enter your weight in kg\n",
      "55\n",
      "enter your height in m\n",
      "1.73\n",
      "18.38\n"
     ]
    }
   ],
   "source": [
    "weight = input('enter your weight in kg\\n')\n",
    "height = input('enter your height in m\\n')\n",
    "BMI = round(float(weight)/float(height)**2,2)\n",
    "print(BMI)"
   ]
  },
  {
   "cell_type": "markdown",
   "id": "6ba19f3d",
   "metadata": {},
   "source": [
    "<h3>Question: Remaining life in weeks of a person</h3>"
   ]
  },
  {
   "cell_type": "code",
   "execution_count": 16,
   "id": "7ecfd01a",
   "metadata": {},
   "outputs": [
    {
     "name": "stdout",
     "output_type": "stream",
     "text": [
      "enter your age\n",
      "25\n",
      "you have 3391.61 weeks left\n"
     ]
    }
   ],
   "source": [
    "# 1. Weeks in one year = 52.1786, therefore in 90 years = 4696.07.\n",
    "# Assumption:- we gonna live for 90 years.\n",
    "user_age = int(input('enter your age\\n'))\n",
    "weeks_left = round((90*52.1786 - user_age*52.1786),2)\n",
    "print(f'you have {weeks_left} weeks left')"
   ]
  }
 ],
 "metadata": {
  "kernelspec": {
   "display_name": "Python 3 (ipykernel)",
   "language": "python",
   "name": "python3"
  },
  "language_info": {
   "codemirror_mode": {
    "name": "ipython",
    "version": 3
   },
   "file_extension": ".py",
   "mimetype": "text/x-python",
   "name": "python",
   "nbconvert_exporter": "python",
   "pygments_lexer": "ipython3",
   "version": "3.9.13"
  }
 },
 "nbformat": 4,
 "nbformat_minor": 5
}
