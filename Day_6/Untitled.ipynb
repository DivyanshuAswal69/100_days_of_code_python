{
 "cells": [
  {
   "cell_type": "code",
   "execution_count": null,
   "id": "b5af8c48",
   "metadata": {},
   "outputs": [],
   "source": [
    "link for excercises = https://reeborg.ca/reeborg.html?lang=en&mode=python&menu=worlds%2Fmenus%2Freeborg_intro_en.json&name=Hurdle%204&url=worlds%2Ftutorial_en%2Fhurdle4.json"
   ]
  },
  {
   "cell_type": "markdown",
   "id": "9d326ea4",
   "metadata": {},
   "source": [
    "<h3>make a square(Reeborg's Robot )</h3>"
   ]
  },
  {
   "cell_type": "code",
   "execution_count": null,
   "id": "a9d1a080",
   "metadata": {},
   "outputs": [],
   "source": [
    "def turn_right():\n",
    "    turn_left()\n",
    "    turn_left()\n",
    "    turn_left()\n",
    "turn_left()\n",
    "move()\n",
    "turn_right()\n",
    "move()\n",
    "turn_right()\n",
    "move()\n",
    "turn_right()\n",
    "move()"
   ]
  },
  {
   "cell_type": "markdown",
   "id": "7b0df37c",
   "metadata": {},
   "source": [
    "<h3>Hurdles Race</h3>"
   ]
  },
  {
   "cell_type": "code",
   "execution_count": null,
   "id": "12e2857f",
   "metadata": {},
   "outputs": [],
   "source": [
    "def turn_right():\n",
    "    turn_left()\n",
    "    turn_left()\n",
    "    turn_left()\n",
    "def jump():\n",
    "    move()\n",
    "    turn_left()\n",
    "    move()\n",
    "    turn_right()\n",
    "    move()\n",
    "    turn_right()\n",
    "    move()\n",
    "    turn_left()\n",
    "   \n",
    "for i in range(1,7):\n",
    "    jump()   "
   ]
  },
  {
   "cell_type": "markdown",
   "id": "c4148529",
   "metadata": {},
   "source": [
    "<h3> Hurdles Race 2</h3>"
   ]
  },
  {
   "cell_type": "code",
   "execution_count": null,
   "id": "76d82ee4",
   "metadata": {},
   "outputs": [],
   "source": [
    "def turn_right():\n",
    "    turn_left()\n",
    "    turn_left()\n",
    "    turn_left()\n",
    "def jump():\n",
    "    move()\n",
    "    turn_left()\n",
    "    move()\n",
    "    turn_right()\n",
    "    move()\n",
    "    turn_right()\n",
    "    move()\n",
    "    turn_left()\n",
    "   \n",
    "while not at_goal():\n",
    "    jump()"
   ]
  },
  {
   "cell_type": "markdown",
   "id": "469b115a",
   "metadata": {},
   "source": [
    "<h3>Hurdles Race 3</h3>"
   ]
  },
  {
   "cell_type": "code",
   "execution_count": null,
   "id": "4f01f628",
   "metadata": {},
   "outputs": [],
   "source": [
    "def turn_right():\n",
    "    turn_left()\n",
    "    turn_left()\n",
    "    turn_left()\n",
    "def jump():\n",
    "    turn_left()\n",
    "    move()\n",
    "    turn_right()\n",
    "    move()\n",
    "    turn_right()\n",
    "    move()\n",
    "    turn_left()\n",
    "while at_goal() != True:\n",
    "    if wall_in_front():\n",
    "        jump()\n",
    "    elif front_is_clear():\n",
    "        move()"
   ]
  },
  {
   "cell_type": "markdown",
   "id": "df9ffcc9",
   "metadata": {},
   "source": [
    "<h3>Jumping over Hurdles with Variable Heights</h3>"
   ]
  },
  {
   "cell_type": "code",
   "execution_count": null,
   "id": "e94b3ae7",
   "metadata": {},
   "outputs": [],
   "source": [
    "def turn_right():\n",
    "    turn_left()\n",
    "    turn_left()\n",
    "    turn_left()\n",
    "def jump():\n",
    "    turn_left()\n",
    "    while wall_on_right():\n",
    "        move()\n",
    "    turn_right()\n",
    "    move()\n",
    "    turn_right()\n",
    "    while front_is_clear():\n",
    "        move()  \n",
    "    turn_left()\n",
    "while at_goal() != True:\n",
    "    if wall_in_front():\n",
    "        jump()\n",
    "    else:\n",
    "        move()"
   ]
  },
  {
   "cell_type": "markdown",
   "id": "d72c6d44",
   "metadata": {},
   "source": [
    "<h3>Final Project: Escaping the Maze</h3>"
   ]
  },
  {
   "cell_type": "code",
   "execution_count": null,
   "id": "a6d0687b",
   "metadata": {},
   "outputs": [],
   "source": [
    "def turn_right():\n",
    "    turn_left()\n",
    "    turn_left()\n",
    "    turn_left()\n",
    "\n",
    "while front_is_clear():\n",
    "    move()\n",
    "turn_left()\n",
    "    \n",
    "while not at_goal():\n",
    "    if right_is_clear():\n",
    "        turn_right()\n",
    "        move()\n",
    "    elif front_is_clear():\n",
    "        move()\n",
    "    else:\n",
    "        turn_left()"
   ]
  }
 ],
 "metadata": {
  "kernelspec": {
   "display_name": "Python 3 (ipykernel)",
   "language": "python",
   "name": "python3"
  },
  "language_info": {
   "codemirror_mode": {
    "name": "ipython",
    "version": 3
   },
   "file_extension": ".py",
   "mimetype": "text/x-python",
   "name": "python",
   "nbconvert_exporter": "python",
   "pygments_lexer": "ipython3",
   "version": "3.9.13"
  }
 },
 "nbformat": 4,
 "nbformat_minor": 5
}
