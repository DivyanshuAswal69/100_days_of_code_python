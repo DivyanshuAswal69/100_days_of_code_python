{
 "cells": [
  {
   "cell_type": "markdown",
   "id": "86f1540f",
   "metadata": {},
   "source": [
    "<h3>Random_Module</h3>"
   ]
  },
  {
   "cell_type": "code",
   "execution_count": 1,
   "id": "6619765f",
   "metadata": {},
   "outputs": [
    {
     "name": "stdout",
     "output_type": "stream",
     "text": [
      "66\n"
     ]
    }
   ],
   "source": [
    "import random\n",
    "random_integer = random.randint(0,100)\n",
    "print(random_integer)"
   ]
  },
  {
   "cell_type": "code",
   "execution_count": 2,
   "id": "04e039fb",
   "metadata": {},
   "outputs": [
    {
     "data": {
      "text/plain": [
       "2.4555486847237784"
      ]
     },
     "execution_count": 2,
     "metadata": {},
     "output_type": "execute_result"
    }
   ],
   "source": [
    "random_float = random.random()*5 #value b/w 0 - 5.\n",
    "random_float"
   ]
  },
  {
   "cell_type": "markdown",
   "id": "d8990fc5",
   "metadata": {},
   "source": [
    "<h3>Heads or Tails</h3>"
   ]
  },
  {
   "cell_type": "code",
   "execution_count": 3,
   "id": "0a048853",
   "metadata": {},
   "outputs": [
    {
     "name": "stdout",
     "output_type": "stream",
     "text": [
      "Heads\n"
     ]
    }
   ],
   "source": [
    "import random\n",
    "toss = random.randint(0,1)\n",
    "if toss == 1:\n",
    "    print('Heads')\n",
    "else:\n",
    "    print('Tails')"
   ]
  },
  {
   "cell_type": "markdown",
   "id": "5e09a562",
   "metadata": {},
   "source": [
    "<h3>List</h3>"
   ]
  },
  {
   "cell_type": "code",
   "execution_count": 4,
   "id": "2f3f00b8",
   "metadata": {},
   "outputs": [
    {
     "name": "stdout",
     "output_type": "stream",
     "text": [
      "['Andhra Pradesh', 'Arunachal Pradesh', 'Assam', 'Bihar', 'Chhattisgarh', 'Goa', 'Gujarat', 'Haryana', 'Himachal Pradesh', 'Jharkhand', 'Karnataka', 'Kerala', 'Madhya Pradesh', 'Maharashtra', 'Manipur', 'Meghalaya', 'Mizoram', 'Nagaland', 'OdishaPunjab', 'Rajasthan', 'Sikkim', 'Tamil Nadu', 'Telangana', 'Tripura', 'Uttarakhand', 'Uttar Pradesh', 'West Bengal']\n"
     ]
    }
   ],
   "source": [
    "states_of_Bharat = ['Andhra Pradesh', 'Arunachal Pradesh', 'Assam', 'Bihar', 'Chhattisgarh', 'Goa', 'Gujarat', 'Haryana', 'Himachal Pradesh', 'Jharkhand', 'Karnataka', 'Kerala', 'Madhya Pradesh', 'Maharashtra', 'Manipur', 'Meghalaya', 'Mizoram', 'Nagaland', 'Odisha' 'Punjab', 'Rajasthan', 'Sikkim', 'Tamil Nadu', 'Telangana', 'Tripura', 'Uttarakhand', 'Uttar Pradesh', 'West Bengal']\n",
    "print(states_of_Bharat)"
   ]
  },
  {
   "cell_type": "markdown",
   "id": "a0460cd0",
   "metadata": {},
   "source": [
    "<h3>Banker_Roulette - Who will pay the bill?</h3>"
   ]
  },
  {
   "cell_type": "code",
   "execution_count": 5,
   "id": "433751c7",
   "metadata": {},
   "outputs": [
    {
     "name": "stdout",
     "output_type": "stream",
     "text": [
      "enter your names, seperated by , and a space.\n",
      "taniya, ram, sita, shyam, swati\n",
      "sita is going to pay the bill\n"
     ]
    }
   ],
   "source": [
    "import random\n",
    "names = input('enter your names, seperated by , and a space.\\n').split(', ')\n",
    "select = random.randint(0,len(names)-1)\n",
    "print(f'{names[select]} is going to pay the bill')"
   ]
  },
  {
   "cell_type": "code",
   "execution_count": 6,
   "id": "36d1ea36",
   "metadata": {},
   "outputs": [
    {
     "name": "stdout",
     "output_type": "stream",
     "text": [
      "Enter A,B or C and 1,2 or 3 combined ex. - B3b2\n",
      "['🗿', '🗿', '🗿']\n",
      "['💀', 'X', '💀']\n",
      "['🦁', '🦁', '🦁']\n"
     ]
    }
   ],
   "source": [
    "line1 = ['🗿','🗿','🗿']\n",
    "line2 = ['💀','💀','💀']\n",
    "line3 = ['🦁','🦁','🦁']\n",
    "map = [line1, line2, line3]\n",
    "position = input('Enter A,B or C and 1,2 or 3 combined ex. - B3').lower()\n",
    "abc = ['a', 'b', 'c']\n",
    "letter_index = abc.index(position[0])\n",
    "number_index = int(position[1]) - 1\n",
    "map[number_index][letter_index] = 'X'\n",
    "print(f'{line1}\\n{line2}\\n{line3}')"
   ]
  },
  {
   "cell_type": "markdown",
   "id": "37184c28",
   "metadata": {},
   "source": [
    "<h3>Day_4_Project: - Rock_Paper_Scissor_Game</h3>"
   ]
  },
  {
   "cell_type": "code",
   "execution_count": 39,
   "id": "e5d989b6",
   "metadata": {},
   "outputs": [
    {
     "name": "stdout",
     "output_type": "stream",
     "text": [
      "choose one : 1 for Rock, 2 for Paper or 3 for Scissor\n",
      "5\n",
      "please choose from the given range. Try again!\n"
     ]
    }
   ],
   "source": [
    "rock = '''  \n",
    "    _______\n",
    "---'   ____)  \n",
    "      (_____)  \n",
    "      (_____)  \n",
    "      (____)\n",
    "---.__(___)  \n",
    "'''\n",
    "paper = '''  \n",
    "    _______\n",
    "---'   ____)____  \n",
    "          ______)  \n",
    "          _______)  \n",
    "         _______)\n",
    "---.__________)  \n",
    "'''\n",
    "scissor = '''  \n",
    "    _______\n",
    "---'   ____)____  \n",
    "          ______)  \n",
    "       __________)  \n",
    "      (____)\n",
    "---.__(___)  \n",
    "'''\n",
    "images = [rock, paper, scissor]\n",
    "user_choice = int(input('choose one : 1 for Rock, 2 for Paper or 3 for Scissor\\n'))\n",
    "if 1 <= user_choice <= 3:\n",
    "    print(f'user chooses {images[user_choice - 1]}')\n",
    "    computer_choice = random.randint(1,3)\n",
    "    print(f'computer chooses {images[computer_choice - 1]}')\n",
    "    if user_choice == computer_choice:\n",
    "        print('it\\'s draw')\n",
    "    elif user_choice == 1 and computer_choice == 3:\n",
    "        print('you won')\n",
    "    elif computer_choice == 1 and user_choice == 3:\n",
    "        print('com won.')\n",
    "    elif user_choice > computer_choice:\n",
    "        print('You won')\n",
    "    elif computer_choice > user_choice:\n",
    "        print('com won. Try again!')\n",
    "else:\n",
    "    print('please choose from the given range. Try again!')"
   ]
  }
 ],
 "metadata": {
  "kernelspec": {
   "display_name": "Python 3 (ipykernel)",
   "language": "python",
   "name": "python3"
  },
  "language_info": {
   "codemirror_mode": {
    "name": "ipython",
    "version": 3
   },
   "file_extension": ".py",
   "mimetype": "text/x-python",
   "name": "python",
   "nbconvert_exporter": "python",
   "pygments_lexer": "ipython3",
   "version": "3.9.13"
  }
 },
 "nbformat": 4,
 "nbformat_minor": 5
}
