{
 "cells": [
  {
   "cell_type": "code",
   "execution_count": 8,
   "id": "cb1b0d0a",
   "metadata": {},
   "outputs": [
    {
     "name": "stdout",
     "output_type": "stream",
     "text": [
      "Hello\n",
      "Angela!\n",
      "How are you?\n"
     ]
    }
   ],
   "source": [
    "def greet():\n",
    "    print('Hello')\n",
    "    print('Angela!')\n",
    "    print('How are you?')\n",
    "greet()"
   ]
  },
  {
   "cell_type": "code",
   "execution_count": 19,
   "id": "d242527f",
   "metadata": {},
   "outputs": [
    {
     "name": "stdout",
     "output_type": "stream",
     "text": [
      "name\n",
      "Angela\n",
      "hello Angela\n",
      "How are you?\n"
     ]
    }
   ],
   "source": [
    "def greet2():\n",
    "    print('hello', input('name\\n'))\n",
    "    print('How are you?')\n",
    "greet2()"
   ]
  },
  {
   "cell_type": "markdown",
   "id": "d2b29d34",
   "metadata": {},
   "source": [
    "<h3>Function with 1 input</h3>"
   ]
  },
  {
   "cell_type": "code",
   "execution_count": 22,
   "id": "2764506f",
   "metadata": {},
   "outputs": [
    {
     "name": "stdout",
     "output_type": "stream",
     "text": [
      "what is your name?\n",
      "Divyanshu\n",
      "Hello Divyanshu\n",
      "How do you do Divyanshu?\n"
     ]
    }
   ],
   "source": [
    "def greet_with_name(name):\n",
    "    print(f'Hello {name}')\n",
    "    print(f'How do you do {name}?')\n",
    "greet_with_name(input('what is your name?\\n'))"
   ]
  },
  {
   "cell_type": "markdown",
   "id": "78e8ad25",
   "metadata": {},
   "source": [
    "<h3>Function with more than 1 input</h3>"
   ]
  },
  {
   "cell_type": "code",
   "execution_count": 24,
   "id": "1487246d",
   "metadata": {},
   "outputs": [
    {
     "name": "stdout",
     "output_type": "stream",
     "text": [
      "Your Name?\n",
      "Divyanshu\n",
      "Your Location?\n",
      "Bharat\n",
      "Hello Divyanshu\n",
      "How is it like in Bharat\n"
     ]
    }
   ],
   "source": [
    "def greet_with(name1, location):\n",
    "    print(f'Hello {name1}')\n",
    "    print(f'How is it like in {location}')\n",
    "greet_with(input('Your Name?\\n'), input('Your Location?\\n'))"
   ]
  },
  {
   "cell_type": "markdown",
   "id": "8038f330",
   "metadata": {},
   "source": [
    "<h3>Calling Parameters using keyword Arguments</h3>"
   ]
  },
  {
   "cell_type": "code",
   "execution_count": 28,
   "id": "488c274c",
   "metadata": {},
   "outputs": [
    {
     "name": "stdout",
     "output_type": "stream",
     "text": [
      "Your Location?\n",
      "Nowhere\n",
      "Your Name?\n",
      "Angela\n",
      "Hello Angela\n",
      "How is it like in Nowhere\n"
     ]
    }
   ],
   "source": [
    "def greet_with(name1, location):\n",
    "    print(f'Hello {name1}')\n",
    "    print(f'How is it like in {location}')\n",
    "greet_with(location = input('Your Location?\\n'), name1 = input('Your Name?\\n'))"
   ]
  },
  {
   "cell_type": "markdown",
   "id": "51c35d40",
   "metadata": {},
   "source": [
    "<H3>Paint Area Calculator</H3>"
   ]
  },
  {
   "cell_type": "code",
   "execution_count": 42,
   "id": "03a55169",
   "metadata": {},
   "outputs": [
    {
     "name": "stdout",
     "output_type": "stream",
     "text": [
      "Height of the wall?\n",
      "23\n",
      "Width of the wall?\n",
      "12\n",
      "You'll need 56 cans of paint.\n"
     ]
    }
   ],
   "source": [
    "import math\n",
    "def paint_calc(height,width,cover):\n",
    "    cans = math.ceil((test_h * test_w)/coverage)\n",
    "    print(f'You\\'ll need {cans} cans of paint.')\n",
    "test_h = int(input('Height of the wall?\\n'))\n",
    "test_w = int(input('Width of the wall?\\n'))\n",
    "coverage = 5\n",
    "paint_calc(height = test_h, width = test_w, cover = coverage)"
   ]
  },
  {
   "cell_type": "markdown",
   "id": "92716603",
   "metadata": {},
   "source": [
    "<h3>Prime Number Checker</h3>"
   ]
  },
  {
   "cell_type": "code",
   "execution_count": 59,
   "id": "26d72050",
   "metadata": {},
   "outputs": [
    {
     "name": "stdout",
     "output_type": "stream",
     "text": [
      "enter any number\n",
      "89\n",
      "it is a prime number\n"
     ]
    }
   ],
   "source": [
    "def prime_checker(num):\n",
    "    is_prime = True\n",
    "    for i in range(2,num):\n",
    "        if num % i == 0:\n",
    "            is_prime = False\n",
    "    if num == 1:\n",
    "        print('it is not a prime number')\n",
    "    elif is_prime:\n",
    "        print('it is a prime number')\n",
    "    else:\n",
    "        print('it is not prime number')\n",
    "        \n",
    "num = int(input('enter any number\\n'))\n",
    "prime_checker(num)"
   ]
  },
  {
   "cell_type": "markdown",
   "id": "6f0b99d9",
   "metadata": {},
   "source": [
    "<h3>Project Caesar_Cipher Part 1 - Encryption</h3>"
   ]
  },
  {
   "cell_type": "code",
   "execution_count": 89,
   "id": "c98f2cf0",
   "metadata": {},
   "outputs": [
    {
     "name": "stdout",
     "output_type": "stream",
     "text": [
      "Type 'encode' to encrypt, type 'decode' to decrypt:\n",
      "encode\n",
      "Type your message:\n",
      "HelloDivyanshu\n",
      "Type the shift number:\n",
      "5\n",
      "The encoded text is mjqqtinadfsxmz\n"
     ]
    }
   ],
   "source": [
    "alphabet = ['a', 'b', 'c', 'd', 'e', 'f', 'g', 'h', 'i', 'j', 'k', 'l',\n",
    "'m', 'n', 'o', 'p', 'q', 'r', 's', 't', 'u', 'v', 'w', 'x', 'y', 'z',\n",
    "'a', 'b', 'c', 'd', 'e', 'f', 'g', 'h', 'i', 'j', 'k', 'l','m', 'n', \n",
    "'o', 'p', 'q', 'r', 's', 't', 'u', 'v', 'w', 'x', 'y', 'z']\n",
    "direction = input(\"Type 'encode' to encrypt, type 'decode' to decrypt:\\n\").lower()\n",
    "text = input('Type your message:\\n').lower()\n",
    "shift = int(input('Type the shift number:\\n'))\n",
    "\n",
    "def encrypt(text, shift):\n",
    "    cipher_text = \"\"\n",
    "    for i in text:\n",
    "        position = alphabet.index(i)\n",
    "        new_position = position + shift\n",
    "        new_letter = alphabet[new_position]\n",
    "        cipher_text += new_letter\n",
    "    print(f'The encoded text is {cipher_text}')\n",
    "encrypt(text, shift)"
   ]
  },
  {
   "cell_type": "markdown",
   "id": "ec9ca6e0",
   "metadata": {},
   "source": [
    "<h3>Project Caesar_Cipher Part 2 - Encryption</h3>"
   ]
  },
  {
   "cell_type": "code",
   "execution_count": 7,
   "id": "2cffd11c",
   "metadata": {},
   "outputs": [
    {
     "name": "stdout",
     "output_type": "stream",
     "text": [
      "Type 'encode' to encrypt, type 'decode' to decrypt:\n",
      "decode\n",
      "Type your message:\n",
      "mjqqtinadfsxmz\n",
      "Type the shift number:\n",
      "5\n",
      "The decoded text is hellodivyanshu\n"
     ]
    }
   ],
   "source": [
    "alphabet = ['a', 'b', 'c', 'd', 'e', 'f', 'g', 'h', 'i', 'j', 'k', 'l',\n",
    "'m', 'n', 'o', 'p', 'q', 'r', 's', 't', 'u', 'v', 'w', 'x', 'y', 'z',\n",
    "'a', 'b', 'c', 'd', 'e', 'f', 'g', 'h', 'i', 'j', 'k', 'l','m', 'n', \n",
    "'o', 'p', 'q', 'r', 's', 't', 'u', 'v', 'w', 'x', 'y', 'z']\n",
    "direction = input(\"Type 'encode' to encrypt, type 'decode' to decrypt:\\n\").lower()\n",
    "text = input('Type your message:\\n').lower()\n",
    "shift = int(input('Type the shift number:\\n'))\n",
    "\n",
    "if direction == 'encode':\n",
    "    def encrypt(text, shift):\n",
    "        cipher_text = \"\"\n",
    "        for i in text:\n",
    "            position = alphabet.index(i)\n",
    "            new_position = position + shift\n",
    "            new_letter = alphabet[new_position]\n",
    "            cipher_text += new_letter\n",
    "        print(f'The encoded text is {cipher_text}')\n",
    "    encrypt(text,shift)\n",
    "elif direction == 'decode':\n",
    "    def decrypt(text, shift):\n",
    "        cipher_text = \"\"\n",
    "        for i in text:\n",
    "            position = alphabet.index(i)\n",
    "            new_position = position - shift\n",
    "            new_letter = alphabet[new_position]\n",
    "            cipher_text += new_letter\n",
    "        print(f'The decoded text is {cipher_text}')\n",
    "    decrypt(text, shift)\n",
    "else:\n",
    "    print('Something went wrong please choose again.')"
   ]
  },
  {
   "cell_type": "markdown",
   "id": "0222d527",
   "metadata": {},
   "source": [
    "<h3>Project Caesar_Cipher Part 3 - Encryption</h3>"
   ]
  },
  {
   "cell_type": "code",
   "execution_count": 22,
   "id": "c76e9e6c",
   "metadata": {},
   "outputs": [
    {
     "name": "stdout",
     "output_type": "stream",
     "text": [
      "Type 'encode' to encrypt, type 'decode' to decrypt:\n",
      "erewer\n",
      "Type your message:\n",
      "hello\n",
      "Type the shift number:\n",
      "3\n",
      "Your erewerd result is: khoor\n"
     ]
    }
   ],
   "source": [
    "alphabet = ['a', 'b', 'c', 'd', 'e', 'f', 'g', 'h', 'i', 'j', 'k', 'l',\n",
    "'m', 'n', 'o', 'p', 'q', 'r', 's', 't', 'u', 'v', 'w', 'x', 'y', 'z',\n",
    "'a', 'b', 'c', 'd', 'e', 'f', 'g', 'h', 'i', 'j', 'k', 'l','m', 'n', \n",
    "'o', 'p', 'q', 'r', 's', 't', 'u', 'v', 'w', 'x', 'y', 'z']\n",
    "direction = input(\"Type 'encode' to encrypt, type 'decode' to decrypt:\\n\").lower()\n",
    "text = input('Type your message:\\n').lower()\n",
    "shift = int(input('Type the shift number:\\n'))\n",
    "\n",
    "def caesar(text, shift, direction):\n",
    "    cipher_call = \"\"\n",
    "    if direction == 'decode':\n",
    "        shift *= -1\n",
    "    for i in text:\n",
    "        position = alphabet.index(i)\n",
    "        new_position = position + shift\n",
    "        word = alphabet[new_position]\n",
    "        cipher_call += word\n",
    "    print(f'Your {direction}d result is: {cipher_call}')\n",
    "caesar(text, shift, direction)"
   ]
  },
  {
   "cell_type": "markdown",
   "id": "0a09624d",
   "metadata": {},
   "source": [
    "<h3>Project Caesar_Cipher Part 4 - Encryption</h3>"
   ]
  },
  {
   "cell_type": "code",
   "execution_count": 41,
   "id": "2b6bdcc6",
   "metadata": {},
   "outputs": [
    {
     "name": "stdout",
     "output_type": "stream",
     "text": [
      "           \n",
      " ,adPPYba, ,adPPYYba,  ,adPPYba, ,adPPYba, ,adPPYYba, 8b,dPPYba,  \n",
      "a8\"     \"\" \"\"     `Y8 a8P_____88 I8[    \"\" \"\"     `Y8 88P'   \"Y8  \n",
      "8b         ,adPPPPP88 8PP\"  `\"Y8ba,  ,adPPPPP88 88          \n",
      "\"8a,   ,aa 88,    ,88 \"8b,   ,aa aa    ]8I 88,    ,88 88          \n",
      " `\"Ybbd8\"' `\"8bbdP\"Y8  `\"Ybbd8\"' `\"YbbdP\"' `\"8bbdP\"Y8 88   \n",
      "            88             88                                 \n",
      "           \"\"             88                                 \n",
      "                          88                                 \n",
      " ,adPPYba, 88 8b,dPPYba,  88,dPPYba,   ,adPPYba, 8b,dPPYba,  \n",
      "a8\"     \"\" 88 88P'    \"8a 88P'    \"8a a8P_____88 88P'   \"Y8  \n",
      "8b         88 88       d8 88       88 8PP\" 88          \n",
      "\"8a,   ,aa 88 88b,   ,a8\" 88       88 \"8b,   ,aa 88          \n",
      " `\"Ybbd8\"' 88 88`YbbdP\"'  88       88  `\"Ybbd8\"' 88          \n",
      "              88                                             \n",
      "              88           \n",
      "\n",
      "Type 'encode' to encrypt, type 'decode' to decrypt:\n",
      "encode\n",
      "Type your message:\n",
      "hello\n",
      "Type the shift number:\n",
      "3\n",
      "Your encoded result is: khoor\n",
      "you want game to continue: - type(yes or no)dhf\n",
      "Error! Try Again!\n",
      "Type 'encode' to encrypt, type 'decode' to decrypt:\n",
      "no\n",
      "Type your message:\n",
      "hello\n",
      "Type the shift number:\n",
      "3\n",
      "Your nod result is: khoor\n",
      "you want game to continue: - type(yes or no)hgh\n",
      "Error! Try Again!\n",
      "Type 'encode' to encrypt, type 'decode' to decrypt:\n",
      "encode\n",
      "Type your message:\n",
      "hello\n",
      "Type the shift number:\n",
      "3\n",
      "Your encoded result is: khoor\n",
      "you want game to continue: - type(yes or no)no\n",
      "Thanks for playing!\n"
     ]
    }
   ],
   "source": [
    "import Caesar_cipher\n",
    "print(Caesar_cipher.logo)\n",
    "alphabet = ['a', 'b', 'c', 'd', 'e', 'f', 'g', 'h', 'i', 'j', 'k', 'l',\n",
    "'m', 'n', 'o', 'p', 'q', 'r', 's', 't', 'u', 'v', 'w', 'x', 'y', 'z',\n",
    "'a', 'b', 'c', 'd', 'e', 'f', 'g', 'h', 'i', 'j', 'k', 'l','m', 'n', \n",
    "'o', 'p', 'q', 'r', 's', 't', 'u', 'v', 'w', 'x', 'y', 'z']\n",
    "\n",
    "def caesar(text, shift, direction):\n",
    "    cipher_call = \"\"\n",
    "    if direction == 'decode':\n",
    "        shift *= -1\n",
    "    for char in text:\n",
    "        if char in alphabet:\n",
    "            position = alphabet.index(char)\n",
    "            new_position = position + shift\n",
    "            word = alphabet[new_position]\n",
    "            cipher_call += word\n",
    "        else:\n",
    "            cipher_call += char\n",
    "    print(f'Your {direction}d result is: {cipher_call}')\n",
    "\n",
    "end_of_game = False\n",
    "while end_of_game == False:\n",
    "    direction = input(\"Type 'encode' to encrypt, type 'decode' to decrypt:\\n\").lower()\n",
    "    text = input('Type your message:\\n').lower()\n",
    "    shift = int(input('Type the shift number:\\n'))\n",
    "    shift = shift % 26   \n",
    "    caesar(text, shift, direction)\n",
    "    user_choice = input('you want game to continue: - type(yes or no)\\n')\n",
    "    if user_choice == \"no\":\n",
    "        end_of_game = True\n",
    "        print(\"Thanks for playing!\")\n",
    "    elif user_choice == 'yes':\n",
    "        end_of_game = False\n",
    "    else:\n",
    "        end_of_game = True\n",
    "        print('Error! Try Again!')"
   ]
  }
 ],
 "metadata": {
  "kernelspec": {
   "display_name": "Python 3 (ipykernel)",
   "language": "python",
   "name": "python3"
  },
  "language_info": {
   "codemirror_mode": {
    "name": "ipython",
    "version": 3
   },
   "file_extension": ".py",
   "mimetype": "text/x-python",
   "name": "python",
   "nbconvert_exporter": "python",
   "pygments_lexer": "ipython3",
   "version": "3.9.13"
  }
 },
 "nbformat": 4,
 "nbformat_minor": 5
}
