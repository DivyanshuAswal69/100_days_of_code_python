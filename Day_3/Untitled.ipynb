{
 "cells": [
  {
   "cell_type": "markdown",
   "id": "7eefcc51",
   "metadata": {},
   "source": [
    "<h3>Rollercoaster_Problem_1</h3>"
   ]
  },
  {
   "cell_type": "code",
   "execution_count": 1,
   "id": "34114834",
   "metadata": {},
   "outputs": [
    {
     "name": "stdout",
     "output_type": "stream",
     "text": [
      "Welcome to the Rollercoaster\n",
      "What is your height in cm?\n",
      "169\n",
      "you can ride the Rollercoaster\n"
     ]
    }
   ],
   "source": [
    "print('Welcome to the Rollercoaster')\n",
    "height = int(input('What is your height in cm?\\n'))\n",
    "if height >= 120:\n",
    "    print('you can ride the Rollercoaster')\n",
    "else:\n",
    "    print('Sorry, you have to grow taller before you can ride.')"
   ]
  },
  {
   "cell_type": "markdown",
   "id": "915263f2",
   "metadata": {},
   "source": [
    "<h4>Question: - write a program to find, whether the user entered number is odd or even.</h4>"
   ]
  },
  {
   "cell_type": "code",
   "execution_count": 2,
   "id": "ee4917df",
   "metadata": {},
   "outputs": [
    {
     "name": "stdout",
     "output_type": "stream",
     "text": [
      "enter any number\n",
      "34\n",
      "34 is even number.\n"
     ]
    }
   ],
   "source": [
    "number = int(input('enter any number\\n'))\n",
    "\n",
    "if number % 2 == 0:\n",
    "    print(f'{number } is even number.')\n",
    "else:\n",
    "    print(f'{number} is odd number.')"
   ]
  },
  {
   "cell_type": "markdown",
   "id": "156c8bb1",
   "metadata": {},
   "source": [
    "<h3>Rollercoaster_Problem_2</h3>"
   ]
  },
  {
   "cell_type": "code",
   "execution_count": 3,
   "id": "5b21dc27",
   "metadata": {},
   "outputs": [
    {
     "name": "stdout",
     "output_type": "stream",
     "text": [
      "Welcome to the Rollercoaster\n",
      "What is your height in cm?\n",
      "156\n",
      "you can ride the Rollercoaster\n",
      "enter your age please\n",
      "12\n",
      "you have to pay $5\n"
     ]
    }
   ],
   "source": [
    "print('Welcome to the Rollercoaster')\n",
    "height = int(input('What is your height in cm?\\n'))\n",
    "if height >= 120:\n",
    "    print('you can ride the Rollercoaster')\n",
    "    age = int(input('enter your age please\\n'))\n",
    "    if age <= 12:\n",
    "        print('you have to pay $5')\n",
    "    elif age <= 18:\n",
    "        print('you have to pay $7')\n",
    "    elif age > 18:\n",
    "        print('pay full adult price i.e. $12')    \n",
    "else:\n",
    "    print('Sorry, you have to grow taller before you can ride.')"
   ]
  },
  {
   "cell_type": "markdown",
   "id": "6af5e6a2",
   "metadata": {},
   "source": [
    "<h3>Question: - Write a program that interprets the BMI based on a user's weight and height. It should tell them the interpretation of their BMI based on the BMI value.</h3>"
   ]
  },
  {
   "cell_type": "code",
   "execution_count": 4,
   "id": "5ada7468",
   "metadata": {},
   "outputs": [
    {
     "name": "stdout",
     "output_type": "stream",
     "text": [
      "enter your weight in kg\n",
      "120\n",
      "enter your height in m\n",
      "1.7\n",
      "your BMI is 41.52, you are clinically obese.\n"
     ]
    }
   ],
   "source": [
    "weight = float(input('enter your weight in kg\\n'))\n",
    "height = float(input('enter your height in m\\n'))\n",
    "BMI = round(weight/height**2,2)\n",
    "if BMI < 18.5:\n",
    "    print(f'your BMI is {BMI}, you are underweight.')\n",
    "elif BMI < 25:\n",
    "    print(f'your BMI is {BMI}, you have a normal weight.')\n",
    "elif BMI < 30:\n",
    "    print(f'your BMI is {BMI}, you are slightly overweight.')\n",
    "elif BMI < 35:\n",
    "    print(f'your BMI is {BMI}, you are obese.')\n",
    "else:\n",
    "    print(f'your BMI is {BMI}, you are clinically obese.')"
   ]
  },
  {
   "cell_type": "markdown",
   "id": "32d9e7dc",
   "metadata": {},
   "source": [
    "<h3>Write a Python program that takes user input for a year and determines whether it is a leap year or not.</h3>"
   ]
  },
  {
   "cell_type": "code",
   "execution_count": 5,
   "id": "93e9d2fd",
   "metadata": {},
   "outputs": [
    {
     "name": "stdout",
     "output_type": "stream",
     "text": [
      "enter the year\n",
      "2012\n",
      "leap year\n"
     ]
    }
   ],
   "source": [
    "year = int(input('enter the year\\n'))\n",
    "if year % 400 == 0:\n",
    "    print('leap year')\n",
    "elif year % 100 == 0:\n",
    "    print('not leap')\n",
    "elif year % 4 == 0:\n",
    "    print('leap year')\n",
    "else:\n",
    "    print('not leap year')"
   ]
  },
  {
   "cell_type": "code",
   "execution_count": 6,
   "id": "8181ee1c",
   "metadata": {},
   "outputs": [
    {
     "name": "stdout",
     "output_type": "stream",
     "text": [
      "enter the year\n",
      "2016\n",
      "leap year\n"
     ]
    }
   ],
   "source": [
    "#Angela_yu's Method\n",
    "year = int(input('enter the year\\n'))\n",
    "if year % 4 == 0:\n",
    "    if year % 100 == 0:\n",
    "        if year % 400 == 0:\n",
    "            print('leap year')          \n",
    "        else:\n",
    "            print('not leap year')\n",
    "    else:\n",
    "        print('leap year')\n",
    "else:\n",
    "    print('not leap year')"
   ]
  },
  {
   "cell_type": "markdown",
   "id": "989db5fd",
   "metadata": {},
   "source": [
    "<h3>Rollercoaster_problem_3</h3>"
   ]
  },
  {
   "cell_type": "code",
   "execution_count": 11,
   "id": "a5fb918b",
   "metadata": {},
   "outputs": [
    {
     "name": "stdout",
     "output_type": "stream",
     "text": [
      "Welcome to the Rollercoaster\n",
      "What is your height in cm?\n",
      "123\n",
      "you can ride the Rollercoaster\n",
      "enter your age please\n",
      "14\n",
      "youth tickets are $7\n",
      "do you want a photo taken? y or n\n",
      "n\n",
      "your bill is $7\n"
     ]
    }
   ],
   "source": [
    "print('Welcome to the Rollercoaster')\n",
    "height = int(input('What is your height in cm?\\n'))\n",
    "bill = 0\n",
    "if height >= 120:\n",
    "    print('you can ride the Rollercoaster')\n",
    "    age = int(input('enter your age please\\n'))\n",
    "    if age <= 12:\n",
    "        bill = 5\n",
    "        print('child tickets are $5')\n",
    "    elif age <= 18:\n",
    "        bill = 7\n",
    "        print('youth tickets are $7')\n",
    "    elif age > 18:\n",
    "        bill = 12\n",
    "        print('adults tickets are $12')  \n",
    "    \n",
    "    wants_photo = input('do you want a photo taken? y or n\\n').lower()\n",
    "    if wants_photo == 'y':\n",
    "        print(f'you have to pay ${bill + 3}')\n",
    "    else:\n",
    "        print(f'your bill is ${bill}')\n",
    "else:\n",
    "    print('Sorry, you have to grow taller before you can ride.')"
   ]
  },
  {
   "cell_type": "markdown",
   "id": "8329f5ab",
   "metadata": {},
   "source": [
    "<h3>Python_Pizza_Deliveries</h3>"
   ]
  },
  {
   "cell_type": "code",
   "execution_count": 32,
   "id": "9d4fcf51",
   "metadata": {},
   "outputs": [
    {
     "name": "stdout",
     "output_type": "stream",
     "text": [
      "Thank you for choosing Python Pizza Deliveries\n",
      "What size pizza do you want?S, M, or L \n",
      "m\n",
      "Do you want pepproni? y or n\n",
      "y\n",
      "Do you want extra cheese? Y or N \n",
      "y\n",
      "Your total bill is 24.\n"
     ]
    }
   ],
   "source": [
    "print('Thank you for choosing Python Pizza Deliveries')\n",
    "size = input('What size pizza do you want?S, M, or L \\n').upper()\n",
    "add_pepperoni = input('Do you want pepproni? y or n\\n').upper()\n",
    "extra_cheese = input('Do you want extra cheese? Y or N \\n').upper()\n",
    "bill = 0\n",
    "if size == 'S':\n",
    "    bill += 15\n",
    "elif size == 'M':\n",
    "    bill += 20\n",
    "elif size == 'L':\n",
    "    bill += 25\n",
    "if add_pepperoni == 'Y':\n",
    "    if size == 'S':\n",
    "        bill += 2\n",
    "    else:\n",
    "        bill += 3\n",
    "if extra_cheese == 'Y':\n",
    "    bill += 1\n",
    "print(f'Your total bill is {bill}.')"
   ]
  },
  {
   "cell_type": "markdown",
   "id": "9d54610c",
   "metadata": {},
   "source": [
    "<h3>Love_Calculator</h3>"
   ]
  },
  {
   "cell_type": "code",
   "execution_count": 19,
   "id": "306c5fe9",
   "metadata": {},
   "outputs": [
    {
     "name": "stdout",
     "output_type": "stream",
     "text": [
      "enter your name\n",
      "brad pitt\n",
      "enter other person name\n",
      "jennifer aniston\n",
      "your score is 73, you are alright together.\n"
     ]
    }
   ],
   "source": [
    "name1 = input('enter your name\\n')\n",
    "name2 = input('enter other person name\\n')\n",
    "comb = (name1 + name2).lower()\n",
    "t = comb.count('t')\n",
    "r = comb.count('r')\n",
    "u = comb.count('u')\n",
    "e = comb.count('e')\n",
    "true = t + r + u + e\n",
    "l = comb.count('l')\n",
    "o = comb.count('o')\n",
    "v = comb.count('v')\n",
    "e = comb.count('e')\n",
    "love = l + o + v + e\n",
    "love_score = str(true) + str(love)\n",
    "love_score = int(love_score)\n",
    "if love_score < 10 and love_score > 90:\n",
    "    print(f'your score is {love_score}, you go together like coke and mentos.')\n",
    "elif 40 <= love_score >= 50:\n",
    "    print(f'your score is {love_score}, you are alright together.')\n",
    "else:   \n",
    "    print(f'your score is {love_score}.')"
   ]
  },
  {
   "cell_type": "markdown",
   "id": "c049e5e8",
   "metadata": {},
   "source": [
    "<h3>Day_3_Project: - Treasure_Island</h3>"
   ]
  },
  {
   "cell_type": "code",
   "execution_count": 27,
   "id": "fb828e04",
   "metadata": {},
   "outputs": [
    {
     "name": "stdout",
     "output_type": "stream",
     "text": [
      "\n",
      "*******************************************************************************\n",
      "          |                   |                  |                     |\n",
      " _________|________________.=\"\"_;=.______________|_____________________|_______\n",
      "|                   |  ,-\"_,=\"\"     `\"=.|                  |\n",
      "|___________________|__\"=._o`\"-._        `\"=.______________|___________________\n",
      "          |                `\"=._o`\"=._      _`\"=._                     |\n",
      " _________|_____________________:=._o \"=._.\"_.-=\"'\"=.__________________|_______\n",
      "|                   |    __.--\" , ; `\"=._o.\" ,-\"\"\"-._ \".   |\n",
      "|___________________|_._\"  ,. .` ` `` ,  `\"-._\"-._   \". '__|___________________\n",
      "          |           |o`\"=._` , \"` `; .\". ,  \"-._\"-._; ;              |\n",
      " _________|___________| ;`-.o`\"=._; .\" ` '`.\"\\` . \"-._ /_______________|_______\n",
      "|                   | |o;    `\"-.o`\"=._``  '` \" ,__.--o;   |\n",
      "|___________________|_| ;     (#) `-.o `\"=.`_.--\"_o.-; ;___|___________________\n",
      "____/______/______/___|o;._    \"      `\".o|o_.--\"    ;o;____/______/______/____\n",
      "/______/______/______/_\"=._o--._        ; | ;        ; ;/______/______/______/_\n",
      "____/______/______/______/__\"=._o--._   ;o|o;     _._;o;____/______/______/____\n",
      "/______/______/______/______/____\"=._o._; | ;_.--\"o.--\"_/______/______/______/_\n",
      "____/______/______/______/______/_____\"=.o|o_.--\"\"___/______/______/______/____\n",
      "/______/______/______/______/______/______/______/______/______/______/_____ /\n",
      "*******************************************************************************\n",
      "\n",
      "Welcome to Treasure_Island!\n",
      "Your mission is to find the treasure.\n",
      "\n",
      "You're at a cross road. Where you want to go? Type \"left\" or \"right\"\n",
      "LEFT\n",
      "You come to a lake. There is an island in the middle of the lake. Type \"wait\" to wait for a boat. Type \"swim\" to swim across\n",
      "WAIT\n",
      "You arrive at the island unharmed. There is a house with 3 doors. One \"red\", one \"yellow\" and one \"blue\". Which colour do you choose? \n",
      "YELLOW\n",
      "You won!\n"
     ]
    }
   ],
   "source": [
    "print('''\n",
    "*******************************************************************************\n",
    "          |                   |                  |                     |\n",
    " _________|________________.=\"\"_;=.______________|_____________________|_______\n",
    "|                   |  ,-\"_,=\"\"     `\"=.|                  |\n",
    "|___________________|__\"=._o`\"-._        `\"=.______________|___________________\n",
    "          |                `\"=._o`\"=._      _`\"=._                     |\n",
    " _________|_____________________:=._o \"=._.\"_.-=\"'\"=.__________________|_______\n",
    "|                   |    __.--\" , ; `\"=._o.\" ,-\"\"\"-._ \".   |\n",
    "|___________________|_._\"  ,. .` ` `` ,  `\"-._\"-._   \". '__|___________________\n",
    "          |           |o`\"=._` , \"` `; .\". ,  \"-._\"-._; ;              |\n",
    " _________|___________| ;`-.o`\"=._; .\" ` '`.\"\\` . \"-._ /_______________|_______\n",
    "|                   | |o;    `\"-.o`\"=._``  '` \" ,__.--o;   |\n",
    "|___________________|_| ;     (#) `-.o `\"=.`_.--\"_o.-; ;___|___________________\n",
    "____/______/______/___|o;._    \"      `\".o|o_.--\"    ;o;____/______/______/____\n",
    "/______/______/______/_\"=._o--._        ; | ;        ; ;/______/______/______/_\n",
    "____/______/______/______/__\"=._o--._   ;o|o;     _._;o;____/______/______/____\n",
    "/______/______/______/______/____\"=._o._; | ;_.--\"o.--\"_/______/______/______/_\n",
    "____/______/______/______/______/_____\"=.o|o_.--\"\"___/______/______/______/____\n",
    "/______/______/______/______/______/______/______/______/______/______/_____ /\n",
    "*******************************************************************************\n",
    "''')\n",
    "print('Welcome to Treasure_Island!')\n",
    "print('Your mission is to find the treasure.\\n')\n",
    "choice1 = input('You\\'re at a cross road. Where you want to go? Type \"left\" or \"right\"\\n').lower()\n",
    "if choice1 == 'left':\n",
    "    choice2 = input('''You come to a lake. There is an island in the middle of the lake. Type \"wait\" to wait for a boat. Type \"swim\" to swim across\\n''').lower()\n",
    "    if choice2 == \"wait\":\n",
    "        choice3 = input('''You arrive at the island unharmed. There is a house with 3 doors. One \"red\", one \"yellow\" and one \"blue\". Which colour do you choose? \\n''').lower()\n",
    "        if choice3 == 'yellow':\n",
    "            print('Congrats. You won!')\n",
    "        elif choice3 == 'red':\n",
    "            print('There is fire all over the place. Game Over!')\n",
    "        elif choice3 == 'blue':\n",
    "            print('There is water all over the place. Try Again!')\n",
    "        else:\n",
    "            print('Try Again!')\n",
    "    else:\n",
    "        print('There are crocodiles in the river. Game Over!') \n",
    "else:\n",
    "    print('You fell into a hole. Game Over')"
   ]
  }
 ],
 "metadata": {
  "kernelspec": {
   "display_name": "Python 3 (ipykernel)",
   "language": "python",
   "name": "python3"
  },
  "language_info": {
   "codemirror_mode": {
    "name": "ipython",
    "version": 3
   },
   "file_extension": ".py",
   "mimetype": "text/x-python",
   "name": "python",
   "nbconvert_exporter": "python",
   "pygments_lexer": "ipython3",
   "version": "3.9.13"
  }
 },
 "nbformat": 4,
 "nbformat_minor": 5
}
